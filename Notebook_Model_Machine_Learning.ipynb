{
 "cells": [
  {
   "cell_type": "markdown",
   "id": "94799986",
   "metadata": {
    "id": "94799986"
   },
   "source": [
    "# Modeling Sentiment Analysis - Machine Learning - LC09 (Project)\n",
    "- Rendra Dwi Prasetyo - 2602199960"
   ]
  },
  {
   "cell_type": "code",
   "execution_count": 1,
   "id": "1abda563",
   "metadata": {
    "id": "1abda563"
   },
   "outputs": [],
   "source": [
    "# Library\n",
    "import pandas as pd\n",
    "import numpy as np\n",
    "import seaborn as sns\n",
    "import matplotlib.pyplot as plt\n",
    "from sklearn.model_selection import train_test_split\n",
    "from sklearn.feature_extraction.text import TfidfVectorizer\n",
    "from sklearn.model_selection import GridSearchCV, train_test_split\n",
    "from sklearn.metrics import confusion_matrix, ConfusionMatrixDisplay, classification_report, make_scorer, precision_score, roc_auc_score, f1_score, accuracy_score\n",
    "from sklearn.svm import SVC\n",
    "from sklearn.naive_bayes import MultinomialNB\n",
    "from sklearn.linear_model import LogisticRegression\n",
    "from sklearn.ensemble import RandomForestClassifier"
   ]
  },
  {
   "cell_type": "code",
   "execution_count": 3,
   "id": "a89de233",
   "metadata": {
    "id": "a89de233"
   },
   "outputs": [],
   "source": [
    "# dataset\n",
    "df = pd.read_csv(\"GojekAppReview.csv\")"
   ]
  },
  {
   "cell_type": "markdown",
   "id": "6fc45e25",
   "metadata": {
    "id": "6fc45e25"
   },
   "source": [
    "## Exploration Data"
   ]
  },
  {
   "cell_type": "code",
   "execution_count": 4,
   "id": "2236ed6a",
   "metadata": {
    "colab": {
     "base_uri": "https://localhost:8080/",
     "height": 1000
    },
    "id": "2236ed6a",
    "outputId": "235918d2-c2c8-4d40-c3fa-7e50840d7942"
   },
   "outputs": [
    {
     "data": {
      "text/html": [
       "<div>\n",
       "<style scoped>\n",
       "    .dataframe tbody tr th:only-of-type {\n",
       "        vertical-align: middle;\n",
       "    }\n",
       "\n",
       "    .dataframe tbody tr th {\n",
       "        vertical-align: top;\n",
       "    }\n",
       "\n",
       "    .dataframe thead th {\n",
       "        text-align: right;\n",
       "    }\n",
       "</style>\n",
       "<table border=\"1\" class=\"dataframe\">\n",
       "  <thead>\n",
       "    <tr style=\"text-align: right;\">\n",
       "      <th></th>\n",
       "      <th>userName</th>\n",
       "      <th>content</th>\n",
       "      <th>score</th>\n",
       "      <th>at</th>\n",
       "      <th>appVersion</th>\n",
       "    </tr>\n",
       "  </thead>\n",
       "  <tbody>\n",
       "    <tr>\n",
       "      <th>0</th>\n",
       "      <td>Yuga Edit</td>\n",
       "      <td>akun gopay saya di blok</td>\n",
       "      <td>1</td>\n",
       "      <td>2022-01-21 10:52:12</td>\n",
       "      <td>4.9.3</td>\n",
       "    </tr>\n",
       "    <tr>\n",
       "      <th>1</th>\n",
       "      <td>ff burik</td>\n",
       "      <td>Lambat sekali sekarang ini bosssku apk gojek g...</td>\n",
       "      <td>3</td>\n",
       "      <td>2021-11-30 15:40:38</td>\n",
       "      <td>4.9.3</td>\n",
       "    </tr>\n",
       "    <tr>\n",
       "      <th>2</th>\n",
       "      <td>Anisa Suci Rahmayuliani</td>\n",
       "      <td>Kenapa sih dari kemarin sy buka aplikasi gojek...</td>\n",
       "      <td>4</td>\n",
       "      <td>2021-11-29 22:58:12</td>\n",
       "      <td>4.9.3</td>\n",
       "    </tr>\n",
       "    <tr>\n",
       "      <th>3</th>\n",
       "      <td>naoki yakuza</td>\n",
       "      <td>Baru download gojek dan hape baru trus ditop u...</td>\n",
       "      <td>1</td>\n",
       "      <td>2022-09-03 15:21:17</td>\n",
       "      <td>4.9.3</td>\n",
       "    </tr>\n",
       "    <tr>\n",
       "      <th>4</th>\n",
       "      <td>Trio Sugianto</td>\n",
       "      <td>Mantap</td>\n",
       "      <td>5</td>\n",
       "      <td>2022-01-15 10:05:27</td>\n",
       "      <td>4.9.3</td>\n",
       "    </tr>\n",
       "    <tr>\n",
       "      <th>5</th>\n",
       "      <td>Arlan Ramlan</td>\n",
       "      <td>Bagus</td>\n",
       "      <td>4</td>\n",
       "      <td>2022-02-01 05:50:40</td>\n",
       "      <td>4.9.3</td>\n",
       "    </tr>\n",
       "    <tr>\n",
       "      <th>6</th>\n",
       "      <td>Slamet Hariyanto</td>\n",
       "      <td>Coba dulu</td>\n",
       "      <td>2</td>\n",
       "      <td>2021-12-10 22:40:45</td>\n",
       "      <td>4.9.3</td>\n",
       "    </tr>\n",
       "    <tr>\n",
       "      <th>7</th>\n",
       "      <td>Hasan Thio</td>\n",
       "      <td>Ok</td>\n",
       "      <td>5</td>\n",
       "      <td>2022-02-01 03:07:45</td>\n",
       "      <td>4.9.3</td>\n",
       "    </tr>\n",
       "    <tr>\n",
       "      <th>8</th>\n",
       "      <td>RAFI BADZLIN</td>\n",
       "      <td>Gimana ini kak pin saya salah terus padahal ud...</td>\n",
       "      <td>1</td>\n",
       "      <td>2022-12-17 08:56:52</td>\n",
       "      <td>4.9.3</td>\n",
       "    </tr>\n",
       "    <tr>\n",
       "      <th>9</th>\n",
       "      <td>mariyadi qc</td>\n",
       "      <td>Biar aman kamu tidak bisa pakai gojek Jadi say...</td>\n",
       "      <td>1</td>\n",
       "      <td>2022-02-09 11:27:38</td>\n",
       "      <td>4.9.3</td>\n",
       "    </tr>\n",
       "    <tr>\n",
       "      <th>10</th>\n",
       "      <td>Noob Gaming</td>\n",
       "      <td>Kumpulan driver sampah</td>\n",
       "      <td>1</td>\n",
       "      <td>2023-08-23 22:38:31</td>\n",
       "      <td>4.9.3</td>\n",
       "    </tr>\n",
       "    <tr>\n",
       "      <th>11</th>\n",
       "      <td>Muhammad irgi Syahputra</td>\n",
       "      <td>Makin lama gojek makin ngga jelas susah bgt da...</td>\n",
       "      <td>1</td>\n",
       "      <td>2022-05-08 13:00:27</td>\n",
       "      <td>4.9.3</td>\n",
       "    </tr>\n",
       "    <tr>\n",
       "      <th>12</th>\n",
       "      <td>Mama Alda</td>\n",
       "      <td>Ok mantap</td>\n",
       "      <td>5</td>\n",
       "      <td>2021-11-14 07:16:11</td>\n",
       "      <td>4.9.3</td>\n",
       "    </tr>\n",
       "    <tr>\n",
       "      <th>13</th>\n",
       "      <td>Neng Reni</td>\n",
       "      <td>Verry Good</td>\n",
       "      <td>5</td>\n",
       "      <td>2022-09-14 04:29:27</td>\n",
       "      <td>4.9.3</td>\n",
       "    </tr>\n",
       "    <tr>\n",
       "      <th>14</th>\n",
       "      <td>Rafasya Abirahma</td>\n",
       "      <td>Aplikasi asuuu  makin lama main gx jelas  Ais ...</td>\n",
       "      <td>1</td>\n",
       "      <td>2022-05-14 20:17:47</td>\n",
       "      <td>4.9.3</td>\n",
       "    </tr>\n",
       "    <tr>\n",
       "      <th>15</th>\n",
       "      <td>Ferdianto Adi</td>\n",
       "      <td>Misi dari gojek jago gak jelas syarat penyeles...</td>\n",
       "      <td>1</td>\n",
       "      <td>2022-01-16 08:09:53</td>\n",
       "      <td>4.9.3</td>\n",
       "    </tr>\n",
       "    <tr>\n",
       "      <th>16</th>\n",
       "      <td>Neng Shanty Febrianty</td>\n",
       "      <td>Untuk sekarang aplikasi nya good job dan banya...</td>\n",
       "      <td>5</td>\n",
       "      <td>2021-12-23 12:57:32</td>\n",
       "      <td>4.9.3</td>\n",
       "    </tr>\n",
       "    <tr>\n",
       "      <th>17</th>\n",
       "      <td>Ardhie Lung</td>\n",
       "      <td>Mantap</td>\n",
       "      <td>5</td>\n",
       "      <td>2022-03-31 13:52:25</td>\n",
       "      <td>4.9.3</td>\n",
       "    </tr>\n",
       "    <tr>\n",
       "      <th>18</th>\n",
       "      <td>Moh hutama Yudha</td>\n",
       "      <td>Pelayanannya bagus</td>\n",
       "      <td>5</td>\n",
       "      <td>2022-07-04 12:09:29</td>\n",
       "      <td>4.9.3</td>\n",
       "    </tr>\n",
       "    <tr>\n",
       "      <th>19</th>\n",
       "      <td>Ahmad Shaleh</td>\n",
       "      <td>Gak jelas</td>\n",
       "      <td>1</td>\n",
       "      <td>2022-07-06 01:45:21</td>\n",
       "      <td>4.9.3</td>\n",
       "    </tr>\n",
       "    <tr>\n",
       "      <th>20</th>\n",
       "      <td>Renny Lomboan</td>\n",
       "      <td>Baik dan bagus</td>\n",
       "      <td>3</td>\n",
       "      <td>2021-12-12 11:43:08</td>\n",
       "      <td>4.9.3</td>\n",
       "    </tr>\n",
       "    <tr>\n",
       "      <th>21</th>\n",
       "      <td>Hanifa Nabila L</td>\n",
       "      <td>Sekarang go food ngga pernah ada promo ongkirn...</td>\n",
       "      <td>3</td>\n",
       "      <td>2024-01-21 08:33:28</td>\n",
       "      <td>4.9.3</td>\n",
       "    </tr>\n",
       "    <tr>\n",
       "      <th>22</th>\n",
       "      <td>Meta Diana</td>\n",
       "      <td>Gojek akhir2 ini ngeselin driverny suka cancel...</td>\n",
       "      <td>3</td>\n",
       "      <td>2022-01-13 03:41:23</td>\n",
       "      <td>4.9.3</td>\n",
       "    </tr>\n",
       "    <tr>\n",
       "      <th>23</th>\n",
       "      <td>Wijayanto Feri</td>\n",
       "      <td>Bintang 1  ngikut yg lain hhhh</td>\n",
       "      <td>3</td>\n",
       "      <td>2022-03-10 15:39:18</td>\n",
       "      <td>4.9.3</td>\n",
       "    </tr>\n",
       "    <tr>\n",
       "      <th>24</th>\n",
       "      <td>exo budian</td>\n",
       "      <td>Ok</td>\n",
       "      <td>5</td>\n",
       "      <td>2021-12-14 11:20:02</td>\n",
       "      <td>4.9.3</td>\n",
       "    </tr>\n",
       "  </tbody>\n",
       "</table>\n",
       "</div>"
      ],
      "text/plain": [
       "                   userName  \\\n",
       "0                 Yuga Edit   \n",
       "1                  ff burik   \n",
       "2   Anisa Suci Rahmayuliani   \n",
       "3              naoki yakuza   \n",
       "4             Trio Sugianto   \n",
       "5              Arlan Ramlan   \n",
       "6          Slamet Hariyanto   \n",
       "7                Hasan Thio   \n",
       "8              RAFI BADZLIN   \n",
       "9               mariyadi qc   \n",
       "10              Noob Gaming   \n",
       "11  Muhammad irgi Syahputra   \n",
       "12                Mama Alda   \n",
       "13                Neng Reni   \n",
       "14         Rafasya Abirahma   \n",
       "15            Ferdianto Adi   \n",
       "16    Neng Shanty Febrianty   \n",
       "17              Ardhie Lung   \n",
       "18         Moh hutama Yudha   \n",
       "19             Ahmad Shaleh   \n",
       "20            Renny Lomboan   \n",
       "21          Hanifa Nabila L   \n",
       "22               Meta Diana   \n",
       "23           Wijayanto Feri   \n",
       "24               exo budian   \n",
       "\n",
       "                                              content  score  \\\n",
       "0                             akun gopay saya di blok      1   \n",
       "1   Lambat sekali sekarang ini bosssku apk gojek g...      3   \n",
       "2   Kenapa sih dari kemarin sy buka aplikasi gojek...      4   \n",
       "3   Baru download gojek dan hape baru trus ditop u...      1   \n",
       "4                                              Mantap      5   \n",
       "5                                               Bagus      4   \n",
       "6                                           Coba dulu      2   \n",
       "7                                                  Ok      5   \n",
       "8   Gimana ini kak pin saya salah terus padahal ud...      1   \n",
       "9   Biar aman kamu tidak bisa pakai gojek Jadi say...      1   \n",
       "10                             Kumpulan driver sampah      1   \n",
       "11  Makin lama gojek makin ngga jelas susah bgt da...      1   \n",
       "12                                          Ok mantap      5   \n",
       "13                                         Verry Good      5   \n",
       "14  Aplikasi asuuu  makin lama main gx jelas  Ais ...      1   \n",
       "15  Misi dari gojek jago gak jelas syarat penyeles...      1   \n",
       "16  Untuk sekarang aplikasi nya good job dan banya...      5   \n",
       "17                                             Mantap      5   \n",
       "18                                 Pelayanannya bagus      5   \n",
       "19                                          Gak jelas      1   \n",
       "20                                     Baik dan bagus      3   \n",
       "21  Sekarang go food ngga pernah ada promo ongkirn...      3   \n",
       "22  Gojek akhir2 ini ngeselin driverny suka cancel...      3   \n",
       "23                     Bintang 1  ngikut yg lain hhhh      3   \n",
       "24                                                 Ok      5   \n",
       "\n",
       "                     at appVersion  \n",
       "0   2022-01-21 10:52:12      4.9.3  \n",
       "1   2021-11-30 15:40:38      4.9.3  \n",
       "2   2021-11-29 22:58:12      4.9.3  \n",
       "3   2022-09-03 15:21:17      4.9.3  \n",
       "4   2022-01-15 10:05:27      4.9.3  \n",
       "5   2022-02-01 05:50:40      4.9.3  \n",
       "6   2021-12-10 22:40:45      4.9.3  \n",
       "7   2022-02-01 03:07:45      4.9.3  \n",
       "8   2022-12-17 08:56:52      4.9.3  \n",
       "9   2022-02-09 11:27:38      4.9.3  \n",
       "10  2023-08-23 22:38:31      4.9.3  \n",
       "11  2022-05-08 13:00:27      4.9.3  \n",
       "12  2021-11-14 07:16:11      4.9.3  \n",
       "13  2022-09-14 04:29:27      4.9.3  \n",
       "14  2022-05-14 20:17:47      4.9.3  \n",
       "15  2022-01-16 08:09:53      4.9.3  \n",
       "16  2021-12-23 12:57:32      4.9.3  \n",
       "17  2022-03-31 13:52:25      4.9.3  \n",
       "18  2022-07-04 12:09:29      4.9.3  \n",
       "19  2022-07-06 01:45:21      4.9.3  \n",
       "20  2021-12-12 11:43:08      4.9.3  \n",
       "21  2024-01-21 08:33:28      4.9.3  \n",
       "22  2022-01-13 03:41:23      4.9.3  \n",
       "23  2022-03-10 15:39:18      4.9.3  \n",
       "24  2021-12-14 11:20:02      4.9.3  "
      ]
     },
     "execution_count": 4,
     "metadata": {},
     "output_type": "execute_result"
    }
   ],
   "source": [
    "df.head(25)"
   ]
  },
  {
   "cell_type": "code",
   "execution_count": 5,
   "id": "1fc90805",
   "metadata": {
    "colab": {
     "base_uri": "https://localhost:8080/"
    },
    "id": "1fc90805",
    "outputId": "ab324cf9-45d9-4a0f-a23c-3b6614351f66"
   },
   "outputs": [
    {
     "name": "stdout",
     "output_type": "stream",
     "text": [
      "Number of Rows: 225002\n",
      "Number of Columns: 5\n"
     ]
    }
   ],
   "source": [
    "num_rows, num_cols = df.shape\n",
    "print(f'Number of Rows: {num_rows}')\n",
    "print(f'Number of Columns: {num_cols}')"
   ]
  },
  {
   "cell_type": "code",
   "execution_count": 6,
   "id": "d15de7ed",
   "metadata": {
    "colab": {
     "base_uri": "https://localhost:8080/"
    },
    "id": "d15de7ed",
    "outputId": "c3cffb6a-8397-4010-b553-51a2a481c31d"
   },
   "outputs": [
    {
     "name": "stdout",
     "output_type": "stream",
     "text": [
      "Categorical variables :  ['userName', 'content', 'at', 'appVersion']\n",
      "Numercial variables :  ['score']\n"
     ]
    }
   ],
   "source": [
    "# Identify categorical and numerical variables\n",
    "data_types = df.dtypes\n",
    "categorical_vars = data_types[data_types == 'object'].index.tolist()\n",
    "numerical_vars = data_types[(data_types == 'int64') | (data_types == 'float64')].index.tolist()\n",
    "\n",
    "print('Categorical variables : ',categorical_vars)\n",
    "print('Numercial variables : ',numerical_vars)"
   ]
  },
  {
   "cell_type": "code",
   "execution_count": 7,
   "id": "5464003a",
   "metadata": {
    "colab": {
     "base_uri": "https://localhost:8080/"
    },
    "id": "5464003a",
    "outputId": "c7d8c9ec-8720-4b01-90fa-428bf323e92d"
   },
   "outputs": [
    {
     "name": "stdout",
     "output_type": "stream",
     "text": [
      "  Parameter Check Result\n",
      "0   Missing Value      2\n",
      "1       Duplikasi      0\n",
      "2         Outlier      0\n",
      "3   Jumlah Simbol    0.0\n"
     ]
    }
   ],
   "source": [
    "import pandas as pd\n",
    "\n",
    "# DataFrame to store the results\n",
    "result_df = pd.DataFrame(columns=[\"Parameter Check\", \"Result\"])\n",
    "\n",
    "# Check the number of missing values per column\n",
    "missing_values = df.isnull().sum().sum()\n",
    "new_row = pd.DataFrame({\"Parameter Check\": [\"Missing Value\"], \"Result\": [missing_values]})\n",
    "result_df = pd.concat([result_df, new_row], ignore_index=True)\n",
    "\n",
    "# Check the number of duplicate rows\n",
    "duplicate_rows = df[df.duplicated(keep=False)]\n",
    "duplicate_count = len(duplicate_rows)\n",
    "new_row = pd.DataFrame({\"Parameter Check\": [\"Duplikasi\"], \"Result\": [duplicate_count]})\n",
    "result_df = pd.concat([result_df, new_row], ignore_index=True)\n",
    "\n",
    "# **Finding outliers using the IQR method**\n",
    "# Select numeric columns only\n",
    "df_numeric = df.select_dtypes(include=['number'])\n",
    "\n",
    "# Calculate Q1, Q3, and IQR\n",
    "Q1 = df_numeric.quantile(0.25)\n",
    "Q3 = df_numeric.quantile(0.75)\n",
    "IQR = Q3 - Q1\n",
    "\n",
    "# Count the number of outliers\n",
    "outlier_count = ((df_numeric < (Q1 - 1.5 * IQR)) | (df_numeric > (Q3 + 1.5 * IQR))).sum().sum()\n",
    "new_row = pd.DataFrame({\"Parameter Check\": [\"Outlier\"], \"Result\": [outlier_count]})\n",
    "result_df = pd.concat([result_df, new_row], ignore_index=True)\n",
    "\n",
    "# Counting the number of symbols in the \"content\" column\n",
    "if 'content' in df.columns:\n",
    "    symbol_count = df[\"content\"].str.count(r'[^\\w\\s]').sum()  # Counts all symbols except alphanumeric characters and spaces\n",
    "    new_row = pd.DataFrame({\"Parameter Check\": [\"Jumlah Simbol\"], \"Result\": [symbol_count]})\n",
    "    result_df = pd.concat([result_df, new_row], ignore_index=True)\n",
    "\n",
    "# Displays the results in a table\n",
    "print(result_df)\n"
   ]
  },
  {
   "cell_type": "markdown",
   "id": "hYqv6SiuTqAL",
   "metadata": {
    "id": "hYqv6SiuTqAL"
   },
   "source": [
    "**Remove missing values**"
   ]
  },
  {
   "cell_type": "code",
   "execution_count": 8,
   "id": "t025BItrTr-K",
   "metadata": {
    "id": "t025BItrTr-K"
   },
   "outputs": [],
   "source": [
    "df = df.dropna()"
   ]
  },
  {
   "cell_type": "code",
   "execution_count": 9,
   "id": "4ERxh-eXTv0P",
   "metadata": {
    "colab": {
     "base_uri": "https://localhost:8080/",
     "height": 241
    },
    "id": "4ERxh-eXTv0P",
    "outputId": "e6fedc96-e392-4a9c-cc5c-f704bfe24144"
   },
   "outputs": [
    {
     "data": {
      "text/plain": [
       "userName      0\n",
       "content       0\n",
       "score         0\n",
       "at            0\n",
       "appVersion    0\n",
       "dtype: int64"
      ]
     },
     "execution_count": 9,
     "metadata": {},
     "output_type": "execute_result"
    }
   ],
   "source": [
    "df.isna().sum()"
   ]
  },
  {
   "cell_type": "markdown",
   "id": "76759b2e",
   "metadata": {
    "id": "76759b2e"
   },
   "source": [
    " **Data clear !**"
   ]
  },
  {
   "cell_type": "code",
   "execution_count": 10,
   "id": "c0f2798b",
   "metadata": {
    "id": "c0f2798b"
   },
   "outputs": [],
   "source": [
    "# remove the name column for privacy and to reduce bias\n",
    "df = df.drop(columns=['userName']);\n",
    "\n",
    "# df = df.drop(columns=['at']);\n",
    "df = df.drop(columns=['appVersion']);\n",
    "\n",
    "# Change the format of the 'at' column to only provide year information\n",
    "df['at'] = pd.to_datetime(df['at']).dt.year\n"
   ]
  },
  {
   "cell_type": "code",
   "execution_count": 11,
   "id": "9db5766e",
   "metadata": {
    "colab": {
     "base_uri": "https://localhost:8080/",
     "height": 206
    },
    "id": "9db5766e",
    "outputId": "cc6e21fc-127f-400c-a85f-71fbb2eae303"
   },
   "outputs": [
    {
     "data": {
      "text/html": [
       "<div>\n",
       "<style scoped>\n",
       "    .dataframe tbody tr th:only-of-type {\n",
       "        vertical-align: middle;\n",
       "    }\n",
       "\n",
       "    .dataframe tbody tr th {\n",
       "        vertical-align: top;\n",
       "    }\n",
       "\n",
       "    .dataframe thead th {\n",
       "        text-align: right;\n",
       "    }\n",
       "</style>\n",
       "<table border=\"1\" class=\"dataframe\">\n",
       "  <thead>\n",
       "    <tr style=\"text-align: right;\">\n",
       "      <th></th>\n",
       "      <th>content</th>\n",
       "      <th>score</th>\n",
       "      <th>at</th>\n",
       "    </tr>\n",
       "  </thead>\n",
       "  <tbody>\n",
       "    <tr>\n",
       "      <th>0</th>\n",
       "      <td>akun gopay saya di blok</td>\n",
       "      <td>1</td>\n",
       "      <td>2022</td>\n",
       "    </tr>\n",
       "    <tr>\n",
       "      <th>1</th>\n",
       "      <td>Lambat sekali sekarang ini bosssku apk gojek g...</td>\n",
       "      <td>3</td>\n",
       "      <td>2021</td>\n",
       "    </tr>\n",
       "    <tr>\n",
       "      <th>2</th>\n",
       "      <td>Kenapa sih dari kemarin sy buka aplikasi gojek...</td>\n",
       "      <td>4</td>\n",
       "      <td>2021</td>\n",
       "    </tr>\n",
       "    <tr>\n",
       "      <th>3</th>\n",
       "      <td>Baru download gojek dan hape baru trus ditop u...</td>\n",
       "      <td>1</td>\n",
       "      <td>2022</td>\n",
       "    </tr>\n",
       "    <tr>\n",
       "      <th>4</th>\n",
       "      <td>Mantap</td>\n",
       "      <td>5</td>\n",
       "      <td>2022</td>\n",
       "    </tr>\n",
       "  </tbody>\n",
       "</table>\n",
       "</div>"
      ],
      "text/plain": [
       "                                             content  score    at\n",
       "0                            akun gopay saya di blok      1  2022\n",
       "1  Lambat sekali sekarang ini bosssku apk gojek g...      3  2021\n",
       "2  Kenapa sih dari kemarin sy buka aplikasi gojek...      4  2021\n",
       "3  Baru download gojek dan hape baru trus ditop u...      1  2022\n",
       "4                                             Mantap      5  2022"
      ]
     },
     "execution_count": 11,
     "metadata": {},
     "output_type": "execute_result"
    }
   ],
   "source": [
    "# check changes\n",
    "df.head()"
   ]
  },
  {
   "cell_type": "code",
   "execution_count": 12,
   "id": "8482de08",
   "metadata": {
    "id": "8482de08"
   },
   "outputs": [],
   "source": [
    "# Map 1-2 reviews become Negative, 3 become neutral, and 4-5 become Positive.\n",
    "target_map = {1: 'negative', 2: 'negative', 3: 'neutral', 4: 'positive', 5: 'positive'}\n",
    "df['target'] = df['score'].map(target_map)\n",
    "\n"
   ]
  },
  {
   "cell_type": "code",
   "execution_count": 13,
   "id": "6866b481",
   "metadata": {
    "colab": {
     "base_uri": "https://localhost:8080/"
    },
    "id": "6866b481",
    "outputId": "41f57041-ddc9-4e87-c9a0-504e2abba323"
   },
   "outputs": [
    {
     "name": "stdout",
     "output_type": "stream",
     "text": [
      "Number of positive values (Positive): 161369\n",
      "Number of Nautral values (Neutral): 9460\n",
      "Number of Negative values (Negative): 54171\n"
     ]
    }
   ],
   "source": [
    "target_counts = df['target'].value_counts()\n",
    "\n",
    "# print category mapping results\n",
    "print(\"Number of positive values (Positive):\", target_counts['positive'])\n",
    "print(\"Number of Nautral values (Neutral):\" , target_counts['neutral'])\n",
    "print(\"Number of Negative values (Negative):\", target_counts['negative'])"
   ]
  },
  {
   "cell_type": "markdown",
   "id": "Yv_fgSw5UdMB",
   "metadata": {
    "id": "Yv_fgSw5UdMB"
   },
   "source": [
    "the data is not balanced on the neutral label so the neutral label will be deleted"
   ]
  },
  {
   "cell_type": "code",
   "execution_count": 14,
   "id": "ize-hm1LUkH8",
   "metadata": {
    "id": "ize-hm1LUkH8"
   },
   "outputs": [],
   "source": [
    "df = df.drop(df[df['target'] == 'neutral'].index)"
   ]
  },
  {
   "cell_type": "code",
   "execution_count": 15,
   "id": "CvsipAAxUrk3",
   "metadata": {
    "colab": {
     "base_uri": "https://localhost:8080/"
    },
    "id": "CvsipAAxUrk3",
    "outputId": "59cd9e67-59ba-47c3-e3cf-9e52d6e1595e"
   },
   "outputs": [
    {
     "data": {
      "text/plain": [
       "array(['negative', 'positive'], dtype=object)"
      ]
     },
     "execution_count": 15,
     "metadata": {},
     "output_type": "execute_result"
    }
   ],
   "source": [
    "# check whether the label has been deleted\n",
    "df['target'].unique()"
   ]
  },
  {
   "cell_type": "code",
   "execution_count": 16,
   "id": "HpWr0Ob-VYk3",
   "metadata": {
    "id": "HpWr0Ob-VYk3"
   },
   "outputs": [],
   "source": [
    "# map/mapping targets in binary\n",
    "target_map = {'negative': 0, 'positive' : 1}\n",
    "df['target_binary'] = df['target'].map(target_map)"
   ]
  },
  {
   "cell_type": "code",
   "execution_count": 17,
   "id": "yt71s9GrsSrA",
   "metadata": {
    "colab": {
     "base_uri": "https://localhost:8080/",
     "height": 206
    },
    "id": "yt71s9GrsSrA",
    "outputId": "632b8325-2fa7-46da-e6da-6bd92345c280"
   },
   "outputs": [
    {
     "data": {
      "text/html": [
       "<div>\n",
       "<style scoped>\n",
       "    .dataframe tbody tr th:only-of-type {\n",
       "        vertical-align: middle;\n",
       "    }\n",
       "\n",
       "    .dataframe tbody tr th {\n",
       "        vertical-align: top;\n",
       "    }\n",
       "\n",
       "    .dataframe thead th {\n",
       "        text-align: right;\n",
       "    }\n",
       "</style>\n",
       "<table border=\"1\" class=\"dataframe\">\n",
       "  <thead>\n",
       "    <tr style=\"text-align: right;\">\n",
       "      <th></th>\n",
       "      <th>content</th>\n",
       "      <th>score</th>\n",
       "      <th>at</th>\n",
       "      <th>target</th>\n",
       "      <th>target_binary</th>\n",
       "    </tr>\n",
       "  </thead>\n",
       "  <tbody>\n",
       "    <tr>\n",
       "      <th>0</th>\n",
       "      <td>akun gopay saya di blok</td>\n",
       "      <td>1</td>\n",
       "      <td>2022</td>\n",
       "      <td>negative</td>\n",
       "      <td>0</td>\n",
       "    </tr>\n",
       "    <tr>\n",
       "      <th>2</th>\n",
       "      <td>Kenapa sih dari kemarin sy buka aplikasi gojek...</td>\n",
       "      <td>4</td>\n",
       "      <td>2021</td>\n",
       "      <td>positive</td>\n",
       "      <td>1</td>\n",
       "    </tr>\n",
       "    <tr>\n",
       "      <th>3</th>\n",
       "      <td>Baru download gojek dan hape baru trus ditop u...</td>\n",
       "      <td>1</td>\n",
       "      <td>2022</td>\n",
       "      <td>negative</td>\n",
       "      <td>0</td>\n",
       "    </tr>\n",
       "    <tr>\n",
       "      <th>4</th>\n",
       "      <td>Mantap</td>\n",
       "      <td>5</td>\n",
       "      <td>2022</td>\n",
       "      <td>positive</td>\n",
       "      <td>1</td>\n",
       "    </tr>\n",
       "    <tr>\n",
       "      <th>5</th>\n",
       "      <td>Bagus</td>\n",
       "      <td>4</td>\n",
       "      <td>2022</td>\n",
       "      <td>positive</td>\n",
       "      <td>1</td>\n",
       "    </tr>\n",
       "  </tbody>\n",
       "</table>\n",
       "</div>"
      ],
      "text/plain": [
       "                                             content  score    at    target  \\\n",
       "0                            akun gopay saya di blok      1  2022  negative   \n",
       "2  Kenapa sih dari kemarin sy buka aplikasi gojek...      4  2021  positive   \n",
       "3  Baru download gojek dan hape baru trus ditop u...      1  2022  negative   \n",
       "4                                             Mantap      5  2022  positive   \n",
       "5                                              Bagus      4  2022  positive   \n",
       "\n",
       "   target_binary  \n",
       "0              0  \n",
       "2              1  \n",
       "3              0  \n",
       "4              1  \n",
       "5              1  "
      ]
     },
     "execution_count": 17,
     "metadata": {},
     "output_type": "execute_result"
    }
   ],
   "source": [
    "df.head()"
   ]
  },
  {
   "cell_type": "code",
   "execution_count": 19,
   "id": "DlkkP5qhXO3M",
   "metadata": {
    "id": "DlkkP5qhXO3M"
   },
   "outputs": [],
   "source": [
    "df = df.drop(columns = ['score','at'])"
   ]
  },
  {
   "cell_type": "code",
   "execution_count": 20,
   "id": "10e1659c",
   "metadata": {
    "id": "10e1659c"
   },
   "outputs": [],
   "source": [
    "# standardization for column names\n",
    "df.columns = ['text', 'target','target_binary']"
   ]
  },
  {
   "cell_type": "code",
   "execution_count": 21,
   "id": "5eb3aaf8",
   "metadata": {
    "colab": {
     "base_uri": "https://localhost:8080/",
     "height": 206
    },
    "id": "5eb3aaf8",
    "outputId": "f1c28f9b-ef6c-40e9-bf3e-cecdf325b4f8"
   },
   "outputs": [
    {
     "data": {
      "text/html": [
       "<div>\n",
       "<style scoped>\n",
       "    .dataframe tbody tr th:only-of-type {\n",
       "        vertical-align: middle;\n",
       "    }\n",
       "\n",
       "    .dataframe tbody tr th {\n",
       "        vertical-align: top;\n",
       "    }\n",
       "\n",
       "    .dataframe thead th {\n",
       "        text-align: right;\n",
       "    }\n",
       "</style>\n",
       "<table border=\"1\" class=\"dataframe\">\n",
       "  <thead>\n",
       "    <tr style=\"text-align: right;\">\n",
       "      <th></th>\n",
       "      <th>text</th>\n",
       "      <th>target</th>\n",
       "      <th>target_binary</th>\n",
       "    </tr>\n",
       "  </thead>\n",
       "  <tbody>\n",
       "    <tr>\n",
       "      <th>0</th>\n",
       "      <td>akun gopay saya di blok</td>\n",
       "      <td>negative</td>\n",
       "      <td>0</td>\n",
       "    </tr>\n",
       "    <tr>\n",
       "      <th>2</th>\n",
       "      <td>Kenapa sih dari kemarin sy buka aplikasi gojek...</td>\n",
       "      <td>positive</td>\n",
       "      <td>1</td>\n",
       "    </tr>\n",
       "    <tr>\n",
       "      <th>3</th>\n",
       "      <td>Baru download gojek dan hape baru trus ditop u...</td>\n",
       "      <td>negative</td>\n",
       "      <td>0</td>\n",
       "    </tr>\n",
       "    <tr>\n",
       "      <th>4</th>\n",
       "      <td>Mantap</td>\n",
       "      <td>positive</td>\n",
       "      <td>1</td>\n",
       "    </tr>\n",
       "    <tr>\n",
       "      <th>5</th>\n",
       "      <td>Bagus</td>\n",
       "      <td>positive</td>\n",
       "      <td>1</td>\n",
       "    </tr>\n",
       "  </tbody>\n",
       "</table>\n",
       "</div>"
      ],
      "text/plain": [
       "                                                text    target  target_binary\n",
       "0                            akun gopay saya di blok  negative              0\n",
       "2  Kenapa sih dari kemarin sy buka aplikasi gojek...  positive              1\n",
       "3  Baru download gojek dan hape baru trus ditop u...  negative              0\n",
       "4                                             Mantap  positive              1\n",
       "5                                              Bagus  positive              1"
      ]
     },
     "execution_count": 21,
     "metadata": {},
     "output_type": "execute_result"
    }
   ],
   "source": [
    "# Checking the different\n",
    "df.head()"
   ]
  },
  {
   "cell_type": "code",
   "execution_count": 22,
   "id": "9c3bd283",
   "metadata": {
    "colab": {
     "base_uri": "https://localhost:8080/",
     "height": 466
    },
    "id": "9c3bd283",
    "outputId": "d81dc31d-b3ad-48a3-aa93-ef0fe82042da"
   },
   "outputs": [
    {
     "data": {
      "text/plain": [
       "<Axes: xlabel='target', ylabel='count'>"
      ]
     },
     "execution_count": 22,
     "metadata": {},
     "output_type": "execute_result"
    },
    {
     "data": {
      "image/png": "[encoded data removed]",
      "text/plain": [
       "<Figure size 640x480 with 1 Axes>"
      ]
     },
     "metadata": {},
     "output_type": "display_data"
    }
   ],
   "source": [
    "sns.countplot(data=df, x='target')"
   ]
  },
  {
   "cell_type": "markdown",
   "id": "BB0lwFaEV6JB",
   "metadata": {
    "id": "BB0lwFaEV6JB"
   },
   "source": [
    "The comparison ratio between negative and positive labels is not extreme, but I will carry out undersampling by cutting the amount of positive label data for the following reasons:\n",
    "1. Reduces computing performance burden with lower data\n",
    "2. To achieve more balanced data because some of the models that I will use (SVM and logistic regression) are quite sensitive to imbalanced data"
   ]
  },
  {
   "cell_type": "code",
   "execution_count": 23,
   "id": "fbKBLm7dWhyG",
   "metadata": {
    "colab": {
     "base_uri": "https://localhost:8080/"
    },
    "id": "fbKBLm7dWhyG",
    "outputId": "f6fbe60c-14b4-4b40-9f4d-baea271f264e"
   },
   "outputs": [
    {
     "name": "stdout",
     "output_type": "stream",
     "text": [
      "The amount of data after undersampling: target\n",
      "positive    54171\n",
      "negative    54171\n",
      "Name: count, dtype: int64\n"
     ]
    }
   ],
   "source": [
    "from sklearn.model_selection import train_test_split\n",
    "\n",
    "positive_df = df[df['target_binary'] == 1]  # Majority class (Positive)\n",
    "negative_df = df[df['target_binary'] == 0]  # Minority class (Negative)\n",
    "\n",
    "# determine the number of samples from the minority class\n",
    "sample_size = len(negative_df)\n",
    "\n",
    "# Undersampling majority data until it is balanced with the amount of minority data\n",
    "undersampled_positive_df = positive_df.sample(n=sample_size, random_state=42)\n",
    "\n",
    "# Recombine the two classes\n",
    "balanced_df = pd.concat([undersampled_positive_df, negative_df])\n",
    "\n",
    "# Randomize the data so that the distribution is random\n",
    "balanced_df = balanced_df.sample(frac=1, random_state=42).reset_index(drop=True)\n",
    "\n",
    "print(f\"The amount of data after undersampling: {balanced_df['target'].value_counts()}\")"
   ]
  },
  {
   "cell_type": "code",
   "execution_count": 24,
   "id": "OkIWzXHIsCpn",
   "metadata": {
    "colab": {
     "base_uri": "https://localhost:8080/",
     "height": 206
    },
    "id": "OkIWzXHIsCpn",
    "outputId": "e834013d-e1a7-476e-c146-03d376ce5d72"
   },
   "outputs": [
    {
     "data": {
      "text/html": [
       "<div>\n",
       "<style scoped>\n",
       "    .dataframe tbody tr th:only-of-type {\n",
       "        vertical-align: middle;\n",
       "    }\n",
       "\n",
       "    .dataframe tbody tr th {\n",
       "        vertical-align: top;\n",
       "    }\n",
       "\n",
       "    .dataframe thead th {\n",
       "        text-align: right;\n",
       "    }\n",
       "</style>\n",
       "<table border=\"1\" class=\"dataframe\">\n",
       "  <thead>\n",
       "    <tr style=\"text-align: right;\">\n",
       "      <th></th>\n",
       "      <th>text</th>\n",
       "      <th>target</th>\n",
       "      <th>target_binary</th>\n",
       "    </tr>\n",
       "  </thead>\n",
       "  <tbody>\n",
       "    <tr>\n",
       "      <th>0</th>\n",
       "      <td>Sangat membantupraktis dan canggihsalam satu a...</td>\n",
       "      <td>positive</td>\n",
       "      <td>1</td>\n",
       "    </tr>\n",
       "    <tr>\n",
       "      <th>1</th>\n",
       "      <td>Sangat membantu</td>\n",
       "      <td>positive</td>\n",
       "      <td>1</td>\n",
       "    </tr>\n",
       "    <tr>\n",
       "      <th>2</th>\n",
       "      <td>Ycrsa</td>\n",
       "      <td>positive</td>\n",
       "      <td>1</td>\n",
       "    </tr>\n",
       "    <tr>\n",
       "      <th>3</th>\n",
       "      <td>Tidak bisa pesan rokok tapi beli KONDOM bisa</td>\n",
       "      <td>negative</td>\n",
       "      <td>0</td>\n",
       "    </tr>\n",
       "    <tr>\n",
       "      <th>4</th>\n",
       "      <td>Lamalama mahal pakai biaya aplikasi segala</td>\n",
       "      <td>positive</td>\n",
       "      <td>1</td>\n",
       "    </tr>\n",
       "  </tbody>\n",
       "</table>\n",
       "</div>"
      ],
      "text/plain": [
       "                                                text    target  target_binary\n",
       "0  Sangat membantupraktis dan canggihsalam satu a...  positive              1\n",
       "1                                    Sangat membantu  positive              1\n",
       "2                                              Ycrsa  positive              1\n",
       "3      Tidak bisa pesan rokok tapi beli KONDOM bisa   negative              0\n",
       "4         Lamalama mahal pakai biaya aplikasi segala  positive              1"
      ]
     },
     "execution_count": 24,
     "metadata": {},
     "output_type": "execute_result"
    }
   ],
   "source": [
    "balanced_df.head()"
   ]
  },
  {
   "cell_type": "markdown",
   "id": "4efaf53b",
   "metadata": {
    "id": "4efaf53b"
   },
   "source": [
    "## Text Preprocessing"
   ]
  },
  {
   "cell_type": "markdown",
   "id": "2c6be9d6-c516-422e-9cc0-4a05f4967caa",
   "metadata": {},
   "source": [
    "Install corpus for indonesian language"
   ]
  },
  {
   "cell_type": "code",
   "execution_count": 26,
   "id": "s-vl5gfeXzCs",
   "metadata": {
    "colab": {
     "base_uri": "https://localhost:8080/"
    },
    "id": "s-vl5gfeXzCs",
    "outputId": "ecc1bedb-7fc0-4655-ab99-56c8ea5cef0b"
   },
   "outputs": [
    {
     "name": "stdout",
     "output_type": "stream",
     "text": [
      "Collecting nlp-id\n",
      "  Downloading nlp_id-0.1.18.0-py3-none-any.whl.metadata (7.7 kB)\n",
      "Collecting huggingface-hub==0.23.4 (from nlp-id)\n",
      "  Downloading huggingface_hub-0.23.4-py3-none-any.whl.metadata (12 kB)\n",
      "Requirement already satisfied: nltk==3.9.1 in c:\\users\\lenovo\\appdata\\local\\programs\\python\\python311\\lib\\site-packages (from nlp-id) (3.9.1)\n",
      "Requirement already satisfied: numpy==1.26.4 in c:\\users\\lenovo\\appdata\\local\\programs\\python\\python311\\lib\\site-packages (from nlp-id) (1.26.4)\n",
      "Collecting scikit-learn==1.5.1 (from nlp-id)\n",
      "  Downloading scikit_learn-1.5.1-cp311-cp311-win_amd64.whl.metadata (12 kB)\n",
      "Collecting scipy==1.13.1 (from nlp-id)\n",
      "  Downloading scipy-1.13.1-cp311-cp311-win_amd64.whl.metadata (60 kB)\n",
      "Collecting wget==3.2 (from nlp-id)\n",
      "  Using cached wget-3.2.zip (10 kB)\n",
      "  Preparing metadata (setup.py): started\n",
      "  Preparing metadata (setup.py): finished with status 'done'\n",
      "Requirement already satisfied: filelock in c:\\users\\lenovo\\appdata\\local\\programs\\python\\python311\\lib\\site-packages (from huggingface-hub==0.23.4->nlp-id) (3.16.1)\n",
      "Collecting fsspec>=2023.5.0 (from huggingface-hub==0.23.4->nlp-id)\n",
      "  Downloading fsspec-2024.12.0-py3-none-any.whl.metadata (11 kB)\n",
      "Requirement already satisfied: packaging>=20.9 in c:\\users\\lenovo\\appdata\\local\\programs\\python\\python311\\lib\\site-packages (from huggingface-hub==0.23.4->nlp-id) (24.2)\n",
      "Requirement already satisfied: pyyaml>=5.1 in c:\\users\\lenovo\\appdata\\local\\programs\\python\\python311\\lib\\site-packages (from huggingface-hub==0.23.4->nlp-id) (6.0.2)\n",
      "Requirement already satisfied: requests in c:\\users\\lenovo\\appdata\\local\\programs\\python\\python311\\lib\\site-packages (from huggingface-hub==0.23.4->nlp-id) (2.32.3)\n",
      "Requirement already satisfied: tqdm>=4.42.1 in c:\\users\\lenovo\\appdata\\local\\programs\\python\\python311\\lib\\site-packages (from huggingface-hub==0.23.4->nlp-id) (4.67.1)\n",
      "Requirement already satisfied: typing-extensions>=3.7.4.3 in c:\\users\\lenovo\\appdata\\local\\programs\\python\\python311\\lib\\site-packages (from huggingface-hub==0.23.4->nlp-id) (4.12.2)\n",
      "Requirement already satisfied: click in c:\\users\\lenovo\\appdata\\local\\programs\\python\\python311\\lib\\site-packages (from nltk==3.9.1->nlp-id) (8.1.7)\n",
      "Requirement already satisfied: joblib in c:\\users\\lenovo\\appdata\\local\\programs\\python\\python311\\lib\\site-packages (from nltk==3.9.1->nlp-id) (1.4.2)\n",
      "Requirement already satisfied: regex>=2021.8.3 in c:\\users\\lenovo\\appdata\\local\\programs\\python\\python311\\lib\\site-packages (from nltk==3.9.1->nlp-id) (2024.11.6)\n",
      "Requirement already satisfied: threadpoolctl>=3.1.0 in c:\\users\\lenovo\\appdata\\local\\programs\\python\\python311\\lib\\site-packages (from scikit-learn==1.5.1->nlp-id) (3.5.0)\n",
      "Requirement already satisfied: colorama in c:\\users\\lenovo\\appdata\\local\\programs\\python\\python311\\lib\\site-packages (from tqdm>=4.42.1->huggingface-hub==0.23.4->nlp-id) (0.4.6)\n",
      "Requirement already satisfied: charset-normalizer<4,>=2 in c:\\users\\lenovo\\appdata\\local\\programs\\python\\python311\\lib\\site-packages (from requests->huggingface-hub==0.23.4->nlp-id) (3.4.0)\n",
      "Requirement already satisfied: idna<4,>=2.5 in c:\\users\\lenovo\\appdata\\local\\programs\\python\\python311\\lib\\site-packages (from requests->huggingface-hub==0.23.4->nlp-id) (3.10)\n",
      "Requirement already satisfied: urllib3<3,>=1.21.1 in c:\\users\\lenovo\\appdata\\local\\programs\\python\\python311\\lib\\site-packages (from requests->huggingface-hub==0.23.4->nlp-id) (2.2.3)\n",
      "Requirement already satisfied: certifi>=2017.4.17 in c:\\users\\lenovo\\appdata\\local\\programs\\python\\python311\\lib\\site-packages (from requests->huggingface-hub==0.23.4->nlp-id) (2024.8.30)\n",
      "Downloading nlp_id-0.1.18.0-py3-none-any.whl (8.1 MB)\n",
      "   ---------------------------------------- 0.0/8.1 MB ? eta -:--:--\n",
      "   -- ------------------------------------- 0.5/8.1 MB 4.2 MB/s eta 0:00:02\n",
      "   ----- ---------------------------------- 1.0/8.1 MB 3.6 MB/s eta 0:00:02\n",
      "   --------- ------------------------------ 1.8/8.1 MB 3.2 MB/s eta 0:00:02\n",
      "   ---------- ----------------------------- 2.1/8.1 MB 3.2 MB/s eta 0:00:02\n",
      "   -------------- ------------------------- 2.9/8.1 MB 3.0 MB/s eta 0:00:02\n",
      "   --------------- ------------------------ 3.1/8.1 MB 2.9 MB/s eta 0:00:02\n",
      "   ------------------- -------------------- 3.9/8.1 MB 2.8 MB/s eta 0:00:02\n",
      "   ---------------------- ----------------- 4.5/8.1 MB 2.8 MB/s eta 0:00:02\n",
      "   ------------------------ --------------- 5.0/8.1 MB 2.8 MB/s eta 0:00:02\n",
      "   ---------------------------- ----------- 5.8/8.1 MB 2.9 MB/s eta 0:00:01\n",
      "   ------------------------------- -------- 6.3/8.1 MB 2.9 MB/s eta 0:00:01\n",
      "   ----------------------------------- ---- 7.1/8.1 MB 2.9 MB/s eta 0:00:01\n",
      "   -------------------------------------- - 7.9/8.1 MB 3.0 MB/s eta 0:00:01\n",
      "   ---------------------------------------- 8.1/8.1 MB 3.0 MB/s eta 0:00:00\n",
      "Downloading huggingface_hub-0.23.4-py3-none-any.whl (402 kB)\n",
      "Downloading scikit_learn-1.5.1-cp311-cp311-win_amd64.whl (11.0 MB)\n",
      "   ---------------------------------------- 0.0/11.0 MB ? eta -:--:--\n",
      "   - -------------------------------------- 0.5/11.0 MB 2.8 MB/s eta 0:00:04\n",
      "   --- ------------------------------------ 1.0/11.0 MB 2.8 MB/s eta 0:00:04\n",
      "   ------ --------------------------------- 1.8/11.0 MB 3.0 MB/s eta 0:00:04\n",
      "   -------- ------------------------------- 2.4/11.0 MB 3.0 MB/s eta 0:00:03\n",
      "   ---------- ----------------------------- 2.9/11.0 MB 3.0 MB/s eta 0:00:03\n",
      "   ------------ --------------------------- 3.4/11.0 MB 2.9 MB/s eta 0:00:03\n",
      "   --------------- ------------------------ 4.2/11.0 MB 3.0 MB/s eta 0:00:03\n",
      "   ----------------- ---------------------- 4.7/11.0 MB 3.0 MB/s eta 0:00:03\n",
      "   ------------------- -------------------- 5.2/11.0 MB 2.8 MB/s eta 0:00:03\n",
      "   ------------------- -------------------- 5.2/11.0 MB 2.8 MB/s eta 0:00:03\n",
      "   -------------------- ------------------- 5.8/11.0 MB 2.6 MB/s eta 0:00:03\n",
      "   --------------------- ------------------ 6.0/11.0 MB 2.5 MB/s eta 0:00:02\n",
      "   --------------------- ------------------ 6.0/11.0 MB 2.5 MB/s eta 0:00:02\n",
      "   --------------------- ------------------ 6.0/11.0 MB 2.5 MB/s eta 0:00:02\n",
      "   ---------------------- ----------------- 6.3/11.0 MB 2.1 MB/s eta 0:00:03\n",
      "   ----------------------- ---------------- 6.6/11.0 MB 2.0 MB/s eta 0:00:03\n",
      "   ------------------------- -------------- 7.1/11.0 MB 2.0 MB/s eta 0:00:02\n",
      "   --------------------------- ------------ 7.6/11.0 MB 2.0 MB/s eta 0:00:02\n",
      "   ----------------------------- ---------- 8.1/11.0 MB 2.0 MB/s eta 0:00:02\n",
      "   ------------------------------- -------- 8.7/11.0 MB 2.1 MB/s eta 0:00:02\n",
      "   --------------------------------- ------ 9.2/11.0 MB 2.1 MB/s eta 0:00:01\n",
      "   ----------------------------------- ---- 9.7/11.0 MB 2.1 MB/s eta 0:00:01\n",
      "   ------------------------------------ --- 10.0/11.0 MB 2.1 MB/s eta 0:00:01\n",
      "   ---------------------------------------  10.7/11.0 MB 2.1 MB/s eta 0:00:01\n",
      "   ---------------------------------------- 11.0/11.0 MB 2.2 MB/s eta 0:00:00\n",
      "Downloading scipy-1.13.1-cp311-cp311-win_amd64.whl (46.2 MB)\n",
      "   ---------------------------------------- 0.0/46.2 MB ? eta -:--:--\n",
      "   ---------------------------------------- 0.3/46.2 MB ? eta -:--:--\n",
      "    --------------------------------------- 0.8/46.2 MB 2.4 MB/s eta 0:00:19\n",
      "    --------------------------------------- 1.0/46.2 MB 2.1 MB/s eta 0:00:22\n",
      "   - -------------------------------------- 1.6/46.2 MB 2.2 MB/s eta 0:00:21\n",
      "   - -------------------------------------- 2.1/46.2 MB 2.3 MB/s eta 0:00:20\n",
      "   -- ------------------------------------- 2.6/46.2 MB 2.3 MB/s eta 0:00:20\n",
      "   -- ------------------------------------- 2.9/46.2 MB 2.1 MB/s eta 0:00:21\n",
      "   -- ------------------------------------- 3.4/46.2 MB 2.1 MB/s eta 0:00:21\n",
      "   --- ------------------------------------ 3.9/46.2 MB 2.1 MB/s eta 0:00:20\n",
      "   --- ------------------------------------ 4.2/46.2 MB 2.1 MB/s eta 0:00:20\n",
      "   ---- ----------------------------------- 4.7/46.2 MB 2.1 MB/s eta 0:00:20\n",
      "   ---- ----------------------------------- 5.2/46.2 MB 2.1 MB/s eta 0:00:20\n",
      "   ---- ----------------------------------- 5.5/46.2 MB 2.1 MB/s eta 0:00:20\n",
      "   ----- ---------------------------------- 6.0/46.2 MB 2.2 MB/s eta 0:00:19\n",
      "   ----- ---------------------------------- 6.6/46.2 MB 2.2 MB/s eta 0:00:19\n",
      "   ----- ---------------------------------- 6.8/46.2 MB 2.2 MB/s eta 0:00:19\n",
      "   ------ --------------------------------- 7.3/46.2 MB 2.2 MB/s eta 0:00:19\n",
      "   ------ --------------------------------- 7.9/46.2 MB 2.2 MB/s eta 0:00:18\n",
      "   ------- -------------------------------- 8.4/46.2 MB 2.2 MB/s eta 0:00:18\n",
      "   ------- -------------------------------- 8.9/46.2 MB 2.2 MB/s eta 0:00:18\n",
      "   ------- -------------------------------- 9.2/46.2 MB 2.2 MB/s eta 0:00:17\n",
      "   -------- ------------------------------- 9.7/46.2 MB 2.2 MB/s eta 0:00:17\n",
      "   -------- ------------------------------- 10.2/46.2 MB 2.2 MB/s eta 0:00:17\n",
      "   --------- ------------------------------ 10.7/46.2 MB 2.2 MB/s eta 0:00:17\n",
      "   --------- ------------------------------ 11.3/46.2 MB 2.2 MB/s eta 0:00:16\n",
      "   ---------- ----------------------------- 11.8/46.2 MB 2.2 MB/s eta 0:00:16\n",
      "   ---------- ----------------------------- 12.3/46.2 MB 2.2 MB/s eta 0:00:16\n",
      "   ----------- ---------------------------- 12.8/46.2 MB 2.2 MB/s eta 0:00:15\n",
      "   ----------- ---------------------------- 13.4/46.2 MB 2.3 MB/s eta 0:00:15\n",
      "   ------------ --------------------------- 13.9/46.2 MB 2.3 MB/s eta 0:00:15\n",
      "   ------------ --------------------------- 14.2/46.2 MB 2.3 MB/s eta 0:00:15\n",
      "   ------------ --------------------------- 14.9/46.2 MB 2.3 MB/s eta 0:00:14\n",
      "   ------------- -------------------------- 15.2/46.2 MB 2.3 MB/s eta 0:00:14\n",
      "   ------------- -------------------------- 15.7/46.2 MB 2.3 MB/s eta 0:00:14\n",
      "   ------------- -------------------------- 15.7/46.2 MB 2.3 MB/s eta 0:00:14\n",
      "   ------------- -------------------------- 15.7/46.2 MB 2.3 MB/s eta 0:00:14\n",
      "   ------------- -------------------------- 16.0/46.2 MB 2.2 MB/s eta 0:00:15\n",
      "   ------------- -------------------------- 16.0/46.2 MB 2.2 MB/s eta 0:00:15\n",
      "   -------------- ------------------------- 16.3/46.2 MB 2.0 MB/s eta 0:00:15\n",
      "   -------------- ------------------------- 16.5/46.2 MB 2.0 MB/s eta 0:00:15\n",
      "   -------------- ------------------------- 16.8/46.2 MB 2.0 MB/s eta 0:00:15\n",
      "   -------------- ------------------------- 17.3/46.2 MB 2.0 MB/s eta 0:00:15\n",
      "   --------------- ------------------------ 17.8/46.2 MB 2.0 MB/s eta 0:00:15\n",
      "   --------------- ------------------------ 18.1/46.2 MB 2.0 MB/s eta 0:00:14\n",
      "   ---------------- ----------------------- 18.6/46.2 MB 2.0 MB/s eta 0:00:14\n",
      "   ---------------- ----------------------- 18.9/46.2 MB 2.0 MB/s eta 0:00:14\n",
      "   ---------------- ----------------------- 19.4/46.2 MB 2.0 MB/s eta 0:00:14\n",
      "   ----------------- ---------------------- 19.9/46.2 MB 2.0 MB/s eta 0:00:14\n",
      "   ----------------- ---------------------- 20.2/46.2 MB 2.0 MB/s eta 0:00:13\n",
      "   ----------------- ---------------------- 20.7/46.2 MB 2.0 MB/s eta 0:00:13\n",
      "   ------------------ --------------------- 21.2/46.2 MB 2.0 MB/s eta 0:00:13\n",
      "   ------------------ --------------------- 21.5/46.2 MB 2.0 MB/s eta 0:00:13\n",
      "   ------------------- -------------------- 22.0/46.2 MB 2.0 MB/s eta 0:00:12\n",
      "   ------------------- -------------------- 22.5/46.2 MB 2.0 MB/s eta 0:00:12\n",
      "   ------------------- -------------------- 23.1/46.2 MB 2.0 MB/s eta 0:00:12\n",
      "   -------------------- ------------------- 23.6/46.2 MB 2.0 MB/s eta 0:00:12\n",
      "   -------------------- ------------------- 24.1/46.2 MB 2.0 MB/s eta 0:00:11\n",
      "   --------------------- ------------------ 24.4/46.2 MB 2.0 MB/s eta 0:00:11\n",
      "   --------------------- ------------------ 24.9/46.2 MB 2.1 MB/s eta 0:00:11\n",
      "   ---------------------- ----------------- 25.4/46.2 MB 2.1 MB/s eta 0:00:11\n",
      "   ---------------------- ----------------- 26.0/46.2 MB 2.1 MB/s eta 0:00:10\n",
      "   ----------------------- ---------------- 26.7/46.2 MB 2.1 MB/s eta 0:00:10\n",
      "   ----------------------- ---------------- 27.3/46.2 MB 2.1 MB/s eta 0:00:10\n",
      "   ------------------------ --------------- 27.8/46.2 MB 2.1 MB/s eta 0:00:09\n",
      "   ------------------------ --------------- 28.0/46.2 MB 2.1 MB/s eta 0:00:09\n",
      "   ------------------------ --------------- 28.6/46.2 MB 2.1 MB/s eta 0:00:09\n",
      "   ------------------------- -------------- 29.1/46.2 MB 2.1 MB/s eta 0:00:09\n",
      "   ------------------------- -------------- 29.6/46.2 MB 2.1 MB/s eta 0:00:08\n",
      "   -------------------------- ------------- 30.1/46.2 MB 2.1 MB/s eta 0:00:08\n",
      "   -------------------------- ------------- 30.7/46.2 MB 2.1 MB/s eta 0:00:08\n",
      "   --------------------------- ------------ 31.2/46.2 MB 2.1 MB/s eta 0:00:08\n",
      "   --------------------------- ------------ 31.7/46.2 MB 2.1 MB/s eta 0:00:07\n",
      "   ---------------------------- ----------- 32.5/46.2 MB 2.2 MB/s eta 0:00:07\n",
      "   ---------------------------- ----------- 33.0/46.2 MB 2.2 MB/s eta 0:00:07\n",
      "   ----------------------------- ---------- 33.6/46.2 MB 2.2 MB/s eta 0:00:06\n",
      "   ----------------------------- ---------- 34.1/46.2 MB 2.2 MB/s eta 0:00:06\n",
      "   ----------------------------- ---------- 34.6/46.2 MB 2.2 MB/s eta 0:00:06\n",
      "   ------------------------------ --------- 35.4/46.2 MB 2.2 MB/s eta 0:00:05\n",
      "   ------------------------------- -------- 35.9/46.2 MB 2.2 MB/s eta 0:00:05\n",
      "   ------------------------------- -------- 36.4/46.2 MB 2.2 MB/s eta 0:00:05\n",
      "   -------------------------------- ------- 37.2/46.2 MB 2.2 MB/s eta 0:00:05\n",
      "   -------------------------------- ------- 37.2/46.2 MB 2.2 MB/s eta 0:00:05\n",
      "   -------------------------------- ------- 37.7/46.2 MB 2.2 MB/s eta 0:00:04\n",
      "   --------------------------------- ------ 38.5/46.2 MB 2.2 MB/s eta 0:00:04\n",
      "   --------------------------------- ------ 38.8/46.2 MB 2.2 MB/s eta 0:00:04\n",
      "   --------------------------------- ------ 38.8/46.2 MB 2.2 MB/s eta 0:00:04\n",
      "   --------------------------------- ------ 39.1/46.2 MB 2.2 MB/s eta 0:00:04\n",
      "   ---------------------------------- ----- 39.3/46.2 MB 2.2 MB/s eta 0:00:04\n",
      "   ---------------------------------- ----- 39.3/46.2 MB 2.2 MB/s eta 0:00:04\n",
      "   ---------------------------------- ----- 39.3/46.2 MB 2.2 MB/s eta 0:00:04\n",
      "   ---------------------------------- ----- 39.3/46.2 MB 2.2 MB/s eta 0:00:04\n",
      "   ---------------------------------- ----- 39.8/46.2 MB 2.1 MB/s eta 0:00:04\n",
      "   ---------------------------------- ----- 40.4/46.2 MB 2.1 MB/s eta 0:00:03\n",
      "   ----------------------------------- ---- 40.9/46.2 MB 2.1 MB/s eta 0:00:03\n",
      "   ----------------------------------- ---- 41.2/46.2 MB 2.1 MB/s eta 0:00:03\n",
      "   ------------------------------------ --- 41.7/46.2 MB 2.1 MB/s eta 0:00:03\n",
      "   ------------------------------------ --- 42.2/46.2 MB 2.1 MB/s eta 0:00:02\n",
      "   ------------------------------------ --- 42.7/46.2 MB 2.1 MB/s eta 0:00:02\n",
      "   ------------------------------------- -- 43.3/46.2 MB 2.1 MB/s eta 0:00:02\n",
      "   ------------------------------------- -- 43.8/46.2 MB 2.1 MB/s eta 0:00:02\n",
      "   -------------------------------------- - 44.6/46.2 MB 2.1 MB/s eta 0:00:01\n",
      "   ---------------------------------------  45.1/46.2 MB 2.1 MB/s eta 0:00:01\n",
      "   ---------------------------------------  45.9/46.2 MB 2.2 MB/s eta 0:00:01\n",
      "   ---------------------------------------- 46.2/46.2 MB 2.2 MB/s eta 0:00:00\n",
      "Downloading fsspec-2024.12.0-py3-none-any.whl (183 kB)\n",
      "Building wheels for collected packages: wget\n",
      "  Building wheel for wget (setup.py): started\n",
      "  Building wheel for wget (setup.py): finished with status 'done'\n",
      "  Created wheel for wget: filename=wget-3.2-py3-none-any.whl size=9681 sha256=bb12e18159017534acd83a53681f0058229c94b427784f1a225c706b057a8939\n",
      "  Stored in directory: c:\\users\\lenovo\\appdata\\local\\pip\\cache\\wheels\\40\\b3\\0f\\a40dbd1c6861731779f62cc4babcb234387e11d697df70ee97\n",
      "Successfully built wget\n",
      "Installing collected packages: wget, scipy, fsspec, scikit-learn, huggingface-hub, nlp-id\n",
      "  Attempting uninstall: scipy\n",
      "    Found existing installation: scipy 1.14.1\n",
      "    Uninstalling scipy-1.14.1:\n",
      "      Successfully uninstalled scipy-1.14.1\n",
      "  Attempting uninstall: scikit-learn\n",
      "    Found existing installation: scikit-learn 1.6.0\n",
      "    Uninstalling scikit-learn-1.6.0:\n",
      "      Successfully uninstalled scikit-learn-1.6.0\n",
      "Successfully installed fsspec-2024.12.0 huggingface-hub-0.23.4 nlp-id-0.1.18.0 scikit-learn-1.5.1 scipy-1.13.1 wget-3.2\n",
      "Note: you may need to restart the kernel to use updated packages.\n"
     ]
    },
    {
     "name": "stderr",
     "output_type": "stream",
     "text": [
      "  WARNING: Failed to remove contents in a temporary directory 'C:\\Users\\LENOVO\\AppData\\Local\\Programs\\Python\\Python311\\Lib\\site-packages\\~cipy.libs'.\n",
      "  You can safely remove it manually.\n",
      "  WARNING: Failed to remove contents in a temporary directory 'C:\\Users\\LENOVO\\AppData\\Local\\Programs\\Python\\Python311\\Lib\\site-packages\\~cipy'.\n",
      "  You can safely remove it manually.\n",
      "  WARNING: Failed to remove contents in a temporary directory 'C:\\Users\\LENOVO\\AppData\\Local\\Programs\\Python\\Python311\\Lib\\site-packages\\~klearn'.\n",
      "  You can safely remove it manually.\n"
     ]
    }
   ],
   "source": [
    "pip install nlp-id"
   ]
  },
  {
   "cell_type": "code",
   "execution_count": 28,
   "id": "PkCSZNEJkwlf",
   "metadata": {
    "colab": {
     "base_uri": "https://localhost:8080/"
    },
    "id": "PkCSZNEJkwlf",
    "outputId": "29d5699b-7a98-4ecf-e84f-801db1519ec0"
   },
   "outputs": [
    {
     "name": "stdout",
     "output_type": "stream",
     "text": [
      "Collecting indoNLP\n",
      "  Downloading indoNLP-0.3.4-py3-none-any.whl.metadata (3.4 kB)\n",
      "Downloading indoNLP-0.3.4-py3-none-any.whl (121 kB)\n",
      "Installing collected packages: indoNLP\n",
      "Successfully installed indoNLP-0.3.4\n",
      "Note: you may need to restart the kernel to use updated packages.\n"
     ]
    }
   ],
   "source": [
    "pip install indoNLP"
   ]
  },
  {
   "cell_type": "code",
   "execution_count": 29,
   "id": "690dbb8d",
   "metadata": {
    "id": "690dbb8d"
   },
   "outputs": [],
   "source": [
    "import nltk\n",
    "from nlp_id.lemmatizer import Lemmatizer\n",
    "from indoNLP.preprocessing import replace_slang, replace_word_elongation"
   ]
  },
  {
   "cell_type": "code",
   "execution_count": 53,
   "id": "rP6iWL2Hk9Ip",
   "metadata": {
    "colab": {
     "base_uri": "https://localhost:8080/"
    },
    "id": "rP6iWL2Hk9Ip",
    "outputId": "a7c7fe1a-4b29-4af5-a5b6-2193f1ee7b73"
   },
   "outputs": [
    {
     "name": "stderr",
     "output_type": "stream",
     "text": [
      "[nltk_data] Downloading package punkt_tab to /root/nltk_data...\n",
      "[nltk_data]   Unzipping tokenizers/punkt_tab.zip.\n"
     ]
    },
    {
     "data": {
      "text/plain": [
       "True"
      ]
     },
     "execution_count": 53,
     "metadata": {},
     "output_type": "execute_result"
    }
   ],
   "source": [
    "nltk.download('punkt_tab')"
   ]
  },
  {
   "cell_type": "code",
   "execution_count": 56,
   "id": "dBhZAiv1lGRw",
   "metadata": {
    "colab": {
     "base_uri": "https://localhost:8080/"
    },
    "id": "dBhZAiv1lGRw",
    "outputId": "1c663cb9-65b4-446e-b120-2c2318749733"
   },
   "outputs": [
    {
     "name": "stderr",
     "output_type": "stream",
     "text": [
      "[nltk_data] Downloading package stopwords to /root/nltk_data...\n",
      "[nltk_data]   Unzipping corpora/stopwords.zip.\n"
     ]
    },
    {
     "data": {
      "text/plain": [
       "True"
      ]
     },
     "execution_count": 56,
     "metadata": {},
     "output_type": "execute_result"
    }
   ],
   "source": [
    "nltk.download('stopwords')"
   ]
  },
  {
   "cell_type": "code",
   "execution_count": 85,
   "id": "4145936e",
   "metadata": {
    "id": "4145936e"
   },
   "outputs": [],
   "source": [
    "lemmatizer = Lemmatizer()\n",
    "\n",
    "def preprocess_text(text):\n",
    "    text = lemmatizer.lemmatize(text)\n",
    "    text = replace_slang(text)\n",
    "    text = replace_word_elongation(text)\n",
    "    text = text.strip()\n",
    "    tokens = nltk.word_tokenize(text)\n",
    "    tokens = [token for token in tokens if token.isalpha()]\n",
    "    stopwords = nltk.corpus.stopwords.words('indonesian')\n",
    "    tokens = [token for token in tokens if token not in stopwords]\n",
    "    return \" \".join(tokens)\n",
    "\n",
    "balanced_df['text_processed'] = balanced_df['text'].apply(preprocess_text)"
   ]
  },
  {
   "cell_type": "markdown",
   "id": "0vq-VFnvstWU",
   "metadata": {
    "id": "0vq-VFnvstWU"
   },
   "source": [
    "70% of the data is training data\n",
    "\n",
    "30% data as test data"
   ]
  },
  {
   "cell_type": "code",
   "execution_count": 86,
   "id": "a3ac43ec",
   "metadata": {
    "id": "a3ac43ec"
   },
   "outputs": [],
   "source": [
    "# Determine X and Y\n",
    "X = balanced_df['text_processed']\n",
    "y = balanced_df['target_binary']\n",
    "\n",
    "# Split data into train data and test data\n",
    "X_train, X_test, y_train, y_test = train_test_split(X, y, test_size=0.3, random_state=42)"
   ]
  },
  {
   "cell_type": "code",
   "execution_count": 87,
   "id": "37dfa882",
   "metadata": {
    "id": "37dfa882"
   },
   "outputs": [],
   "source": [
    "# TFid to convert data to vector, with 3000 most common words\n",
    "vectorizer = TfidfVectorizer(max_features=3000)\n",
    "X_train = vectorizer.fit_transform(X_train)\n",
    "X_test = vectorizer.transform(X_test)\n"
   ]
  },
  {
   "cell_type": "markdown",
   "id": "96ffb730",
   "metadata": {
    "id": "96ffb730"
   },
   "source": [
    "# Implementation into Machine Learning models"
   ]
  },
  {
   "cell_type": "markdown",
   "id": "b758b24c",
   "metadata": {
    "id": "b758b24c"
   },
   "source": [
    "### Support Vector machine (SVM)"
   ]
  },
  {
   "cell_type": "code",
   "execution_count": 88,
   "id": "3d83c6e3",
   "metadata": {
    "id": "3d83c6e3"
   },
   "outputs": [],
   "source": [
    "# implementation to SVM Model rbf (Radial Basis Function).\n",
    "svc = SVC(probability=True)\n",
    "svc.fit(X_train, y_train)\n",
    "y_pred = svc.predict(X_test)"
   ]
  },
  {
   "cell_type": "code",
   "execution_count": 89,
   "id": "pi9FWE_qvSGj",
   "metadata": {
    "colab": {
     "base_uri": "https://localhost:8080/"
    },
    "id": "pi9FWE_qvSGj",
    "outputId": "34633942-0713-435f-a875-99f65771fd06"
   },
   "outputs": [
    {
     "name": "stdout",
     "output_type": "stream",
     "text": [
      "SVM Model accuracy : 0.916\n"
     ]
    }
   ],
   "source": [
    "print('SVM Model accuracy : {0:0.3f}'. format(accuracy_score(y_test, y_pred)))"
   ]
  },
  {
   "cell_type": "code",
   "execution_count": 90,
   "id": "F0Sq2Q2k_9Yo",
   "metadata": {
    "colab": {
     "base_uri": "https://localhost:8080/"
    },
    "id": "F0Sq2Q2k_9Yo",
    "outputId": "b56bc335-6eea-4186-93c6-9f43f3630582"
   },
   "outputs": [
    {
     "name": "stdout",
     "output_type": "stream",
     "text": [
      "              precision    recall  f1-score   support\n",
      "\n",
      "           0       0.90      0.93      0.92     16301\n",
      "           1       0.93      0.90      0.91     16202\n",
      "\n",
      "    accuracy                           0.92     32503\n",
      "   macro avg       0.92      0.92      0.92     32503\n",
      "weighted avg       0.92      0.92      0.92     32503\n",
      "\n"
     ]
    }
   ],
   "source": [
    "print(classification_report(y_test, y_pred))"
   ]
  },
  {
   "cell_type": "code",
   "execution_count": 91,
   "id": "jtJ0Z_ULAFdk",
   "metadata": {
    "colab": {
     "base_uri": "https://localhost:8080/",
     "height": 564
    },
    "id": "jtJ0Z_ULAFdk",
    "outputId": "add9a6c4-c628-47a7-a924-0f8959f63c20"
   },
   "outputs": [
    {
     "data": {
      "image/png": "[encoded data removed]",
      "text/plain": [
       "<Figure size 800x600 with 2 Axes>"
      ]
     },
     "metadata": {},
     "output_type": "display_data"
    }
   ],
   "source": [
    "cm = confusion_matrix(y_test, y_pred)\n",
    "\n",
    "plt.figure(figsize=(8, 6))\n",
    "sns.heatmap(cm, annot=True, fmt='d', cmap='Blues',\n",
    "            xticklabels=['Negative', 'Positive'], yticklabels=['Negative', 'Positive'])\n",
    "plt.xlabel('Predicted')\n",
    "plt.ylabel('Actual')\n",
    "plt.title('Confusion Matrix for SVM')\n",
    "plt.show()"
   ]
  },
  {
   "cell_type": "markdown",
   "id": "05f35c8f",
   "metadata": {
    "id": "05f35c8f"
   },
   "source": [
    "### Naive Bayes"
   ]
  },
  {
   "cell_type": "code",
   "execution_count": 92,
   "id": "09abf6bf",
   "metadata": {
    "id": "09abf6bf"
   },
   "outputs": [],
   "source": [
    "# implementation to the Naive Bayes Model\n",
    "nb = MultinomialNB()\n",
    "nb.fit(X_train, y_train)\n",
    "y_pred_nb = nb.predict(X_test)"
   ]
  },
  {
   "cell_type": "code",
   "execution_count": 93,
   "id": "_xz6nS1OAV7J",
   "metadata": {
    "colab": {
     "base_uri": "https://localhost:8080/"
    },
    "id": "_xz6nS1OAV7J",
    "outputId": "f6a07e52-4a9e-4aef-8dd6-ad67d8bdbe37"
   },
   "outputs": [
    {
     "name": "stdout",
     "output_type": "stream",
     "text": [
      "Naive Bayes Model accuracy : 0.911\n"
     ]
    }
   ],
   "source": [
    "print('Naive Bayes Model accuracy : {0:0.3f}'. format(accuracy_score(y_test, y_pred_nb)))"
   ]
  },
  {
   "cell_type": "code",
   "execution_count": 98,
   "id": "UPPpFShNA_Qy",
   "metadata": {
    "colab": {
     "base_uri": "https://localhost:8080/"
    },
    "id": "UPPpFShNA_Qy",
    "outputId": "c4cd13ce-1c4f-4b57-feef-92760bcf6683"
   },
   "outputs": [
    {
     "name": "stdout",
     "output_type": "stream",
     "text": [
      "              precision    recall  f1-score   support\n",
      "\n",
      "           0       0.89      0.94      0.91     16301\n",
      "           1       0.94      0.88      0.91     16202\n",
      "\n",
      "    accuracy                           0.91     32503\n",
      "   macro avg       0.91      0.91      0.91     32503\n",
      "weighted avg       0.91      0.91      0.91     32503\n",
      "\n"
     ]
    }
   ],
   "source": [
    "print(classification_report(y_test, y_pred_nb))"
   ]
  },
  {
   "cell_type": "code",
   "execution_count": 95,
   "id": "H6dKrOkXAiBS",
   "metadata": {
    "colab": {
     "base_uri": "https://localhost:8080/",
     "height": 564
    },
    "id": "H6dKrOkXAiBS",
    "outputId": "9ec174b4-7a94-40a3-dd15-bd4209743a24"
   },
   "outputs": [
    {
     "data": {
      "image/png": "[encoded data removed]",
      "text/plain": [
       "<Figure size 800x600 with 2 Axes>"
      ]
     },
     "metadata": {},
     "output_type": "display_data"
    }
   ],
   "source": [
    "cm2 = confusion_matrix(y_test, y_pred_nb)\n",
    "\n",
    "plt.figure(figsize=(8, 6))\n",
    "sns.heatmap(cm2, annot=True, fmt='d', cmap='Blues',\n",
    "            xticklabels=['Negative', 'Positive'], yticklabels=['Negative', 'Positive'])\n",
    "plt.xlabel('Predicted')\n",
    "plt.ylabel('Actual')\n",
    "plt.title('Confusion Matrix for Naive Bayes')\n",
    "plt.show()"
   ]
  },
  {
   "cell_type": "markdown",
   "id": "246af458",
   "metadata": {
    "id": "246af458"
   },
   "source": [
    "### Logistic regression"
   ]
  },
  {
   "cell_type": "code",
   "execution_count": 96,
   "id": "1dca7399",
   "metadata": {
    "id": "1dca7399"
   },
   "outputs": [],
   "source": [
    "# implementation to the Logistic Regression Model\n",
    "lr = LogisticRegression(max_iter=1000)\n",
    "lr.fit(X_train, y_train)\n",
    "y_pred_lr = lr.predict(X_test)"
   ]
  },
  {
   "cell_type": "code",
   "execution_count": 97,
   "id": "Y6xGb_2rA1RN",
   "metadata": {
    "colab": {
     "base_uri": "https://localhost:8080/"
    },
    "id": "Y6xGb_2rA1RN",
    "outputId": "00460554-1c81-4803-bc41-fa49fa78e99f"
   },
   "outputs": [
    {
     "name": "stdout",
     "output_type": "stream",
     "text": [
      "Logistic Regression Model accuracy : 0.913\n"
     ]
    }
   ],
   "source": [
    "print('Logistic Regression Model accuracy : {0:0.3f}'. format(accuracy_score(y_test, y_pred_lr)))"
   ]
  },
  {
   "cell_type": "code",
   "execution_count": 99,
   "id": "So6Sz6E4BDt_",
   "metadata": {
    "colab": {
     "base_uri": "https://localhost:8080/"
    },
    "id": "So6Sz6E4BDt_",
    "outputId": "2318ab65-8e0c-4615-985c-fc33a3896af9"
   },
   "outputs": [
    {
     "name": "stdout",
     "output_type": "stream",
     "text": [
      "              precision    recall  f1-score   support\n",
      "\n",
      "           0       0.91      0.92      0.91     16301\n",
      "           1       0.92      0.90      0.91     16202\n",
      "\n",
      "    accuracy                           0.91     32503\n",
      "   macro avg       0.91      0.91      0.91     32503\n",
      "weighted avg       0.91      0.91      0.91     32503\n",
      "\n"
     ]
    }
   ],
   "source": [
    "print(classification_report(y_test, y_pred_lr))"
   ]
  },
  {
   "cell_type": "code",
   "execution_count": 104,
   "id": "WGrfb05-A41j",
   "metadata": {
    "colab": {
     "base_uri": "https://localhost:8080/",
     "height": 564
    },
    "id": "WGrfb05-A41j",
    "outputId": "4479c2e1-58ac-4ea2-d93a-f450586549e2"
   },
   "outputs": [
    {
     "data": {
      "image/png": "[encoded data removed]",
      "text/plain": [
       "<Figure size 800x600 with 2 Axes>"
      ]
     },
     "metadata": {},
     "output_type": "display_data"
    }
   ],
   "source": [
    "cm3 = confusion_matrix(y_test, y_pred_lr)\n",
    "\n",
    "plt.figure(figsize=(8, 6))\n",
    "sns.heatmap(cm3, annot=True, fmt='d', cmap='Blues',\n",
    "            xticklabels=['Negative', 'Positive'], yticklabels=['Negative', 'Positive'])\n",
    "plt.xlabel('Predicted')\n",
    "plt.ylabel('Actual')\n",
    "plt.title('Confusion Matrix for Logistic Regression')\n",
    "plt.show()"
   ]
  },
  {
   "cell_type": "markdown",
   "id": "e0cb2057",
   "metadata": {
    "id": "e0cb2057"
   },
   "source": [
    "### Random Forest Model"
   ]
  },
  {
   "cell_type": "code",
   "execution_count": 101,
   "id": "b9ad220b",
   "metadata": {
    "id": "b9ad220b"
   },
   "outputs": [],
   "source": [
    "# Implementation to the Random Forest Model\n",
    "rf = RandomForestClassifier(n_estimators=100, random_state=42)\n",
    "rf.fit(X_train, y_train)\n",
    "y_pred_rf = rf.predict(X_test)"
   ]
  },
  {
   "cell_type": "code",
   "execution_count": 102,
   "id": "kPF38vIgBlG2",
   "metadata": {
    "colab": {
     "base_uri": "https://localhost:8080/"
    },
    "id": "kPF38vIgBlG2",
    "outputId": "dcaef3b9-2a1e-45bf-82fd-11fa1b65db44"
   },
   "outputs": [
    {
     "name": "stdout",
     "output_type": "stream",
     "text": [
      "Random Forest Model accuracy : 0.901\n"
     ]
    }
   ],
   "source": [
    "print('Random Forest Model accuracy : {0:0.3f}'. format(accuracy_score(y_test, y_pred_rf)))"
   ]
  },
  {
   "cell_type": "code",
   "execution_count": 103,
   "id": "1BI5iDXiB2AU",
   "metadata": {
    "colab": {
     "base_uri": "https://localhost:8080/"
    },
    "id": "1BI5iDXiB2AU",
    "outputId": "2201d1d8-a255-449a-924d-a63f9dd51242"
   },
   "outputs": [
    {
     "name": "stdout",
     "output_type": "stream",
     "text": [
      "              precision    recall  f1-score   support\n",
      "\n",
      "           0       0.89      0.92      0.90     16301\n",
      "           1       0.92      0.88      0.90     16202\n",
      "\n",
      "    accuracy                           0.90     32503\n",
      "   macro avg       0.90      0.90      0.90     32503\n",
      "weighted avg       0.90      0.90      0.90     32503\n",
      "\n"
     ]
    }
   ],
   "source": [
    "print(classification_report(y_test, y_pred_rf))"
   ]
  },
  {
   "cell_type": "code",
   "execution_count": 105,
   "id": "F3Ggm5xmCAWB",
   "metadata": {
    "colab": {
     "base_uri": "https://localhost:8080/",
     "height": 564
    },
    "id": "F3Ggm5xmCAWB",
    "outputId": "5eac9566-d480-4b20-bbd8-8a643909aadd"
   },
   "outputs": [
    {
     "data": {
      "image/png": "[encoded data removed]",
      "text/plain": [
       "<Figure size 800x600 with 2 Axes>"
      ]
     },
     "metadata": {},
     "output_type": "display_data"
    }
   ],
   "source": [
    "cm4 = confusion_matrix(y_test, y_pred_rf)\n",
    "\n",
    "plt.figure(figsize=(8, 6))\n",
    "sns.heatmap(cm4, annot=True, fmt='d', cmap='Blues',\n",
    "            xticklabels=['Negative', 'Positive'], yticklabels=['Negative', 'Positive'])\n",
    "plt.xlabel('Predicted')\n",
    "plt.ylabel('Actual')\n",
    "plt.title('Confusion Matrix for Random Forest')\n",
    "plt.show()"
   ]
  },
  {
   "cell_type": "markdown",
   "id": "08e9101b",
   "metadata": {
    "id": "08e9101b"
   },
   "source": [
    "# Result"
   ]
  },
  {
   "cell_type": "code",
   "execution_count": 106,
   "id": "4b4ce29a",
   "metadata": {
    "colab": {
     "base_uri": "https://localhost:8080/"
    },
    "id": "4b4ce29a",
    "outputId": "d7b481e4-9caf-4921-cab4-3bf0899746bd"
   },
   "outputs": [
    {
     "name": "stdout",
     "output_type": "stream",
     "text": [
      "SVM Model accuracy : 0.916\n",
      "Naive Bayes Model accuracy : 0.911\n",
      "Logistic Regression Model accuracy : 0.913\n",
      "Random Forest Model accuracy : 0.901\n"
     ]
    }
   ],
   "source": [
    "# Accuracy \n",
    "print('SVM Model accuracy : {0:0.3f}'. format(accuracy_score(y_test, y_pred)))\n",
    "print('Naive Bayes Model accuracy : {0:0.3f}'. format(accuracy_score(y_test, y_pred_nb)))\n",
    "print('Logistic Regression Model accuracy : {0:0.3f}'. format(accuracy_score(y_test, y_pred_lr)))\n",
    "print('Random Forest Model accuracy : {0:0.3f}'. format(accuracy_score(y_test, y_pred_rf)))"
   ]
  },
  {
   "cell_type": "markdown",
   "id": "VgXoYnxscDpN",
   "metadata": {
    "id": "VgXoYnxscDpN"
   },
   "source": [
    "### For Deployment"
   ]
  },
  {
   "cell_type": "code",
   "execution_count": 109,
   "id": "c8fbf928",
   "metadata": {
    "id": "c8fbf928"
   },
   "outputs": [],
   "source": [
    "# Import pickle \n",
    "import pickle"
   ]
  },
  {
   "cell_type": "code",
   "execution_count": 110,
   "id": "4aae64b8",
   "metadata": {
    "colab": {
     "base_uri": "https://localhost:8080/"
    },
    "id": "4aae64b8",
    "outputId": "f1d98d24-9171-4ab6-cc65-533d80455185"
   },
   "outputs": [
    {
     "name": "stdout",
     "output_type": "stream",
     "text": [
      "Models and other components have been saved successfully!\n"
     ]
    }
   ],
   "source": [
    "# Save models, vectorizer, and target map to a pickle file\n",
    "with open('sentiment_models_FULL_new.pkl', 'wb') as file:\n",
    "    pickle.dump((svc, nb, lr, rf, vectorizer, target_map), file)\n",
    "\n",
    "print(\"Models and other components have been saved successfully!\")"
   ]
  },
  {
   "cell_type": "code",
   "execution_count": 112,
   "id": "Vx4T0dptbFEp",
   "metadata": {
    "colab": {
     "base_uri": "https://localhost:8080/",
     "height": 36
    },
    "id": "Vx4T0dptbFEp",
    "outputId": "9e8c2c73-7149-4103-db60-66dce611c777"
   },
   "outputs": [
    {
     "data": {
      "application/vnd.google.colaboratory.intrinsic+json": {
       "type": "string"
      },
      "text/plain": [
       "'3.10.12 (main, Nov  6 2024, 20:22:13) [GCC 11.4.0]'"
      ]
     },
     "execution_count": 112,
     "metadata": {},
     "output_type": "execute_result"
    }
   ],
   "source": [
    "import sys\n",
    "sys.version"
   ]
  },
  {
   "cell_type": "code",
   "execution_count": 115,
   "id": "P7SUeBchcUfy",
   "metadata": {
    "colab": {
     "base_uri": "https://localhost:8080/",
     "height": 175
    },
    "id": "P7SUeBchcUfy",
    "outputId": "105dd659-e48e-470f-90a0-2707279a0245"
   },
   "outputs": [
    {
     "data": {
      "application/vnd.google.colaboratory.intrinsic+json": {
       "summary": "{\n  \"name\": \"comparison_df\",\n  \"rows\": 4,\n  \"fields\": [\n    {\n      \"column\": \"Model\",\n      \"properties\": {\n        \"dtype\": \"string\",\n        \"num_unique_values\": 4,\n        \"samples\": [\n          \"Naive Bayes\",\n          \"Random Forest\",\n          \"SVM\"\n        ],\n        \"semantic_type\": \"\",\n        \"description\": \"\"\n      }\n    },\n    {\n      \"column\": \"Accuracy\",\n      \"properties\": {\n        \"dtype\": \"number\",\n        \"std\": 0.006173518639207747,\n        \"min\": 0.9012706519398209,\n        \"max\": 0.9156077900501493,\n        \"num_unique_values\": 4,\n        \"samples\": [\n          0.9105313355690244,\n          0.9012706519398209,\n          0.9156077900501493\n        ],\n        \"semantic_type\": \"\",\n        \"description\": \"\"\n      }\n    },\n    {\n      \"column\": \"Precision\",\n      \"properties\": {\n        \"dtype\": \"number\",\n        \"std\": 0.006060244461119341,\n        \"min\": 0.902044640276107,\n        \"max\": 0.916175116591013,\n        \"num_unique_values\": 4,\n        \"samples\": [\n          0.9119359598454173,\n          0.902044640276107,\n          0.916175116591013\n        ],\n        \"semantic_type\": \"\",\n        \"description\": \"\"\n      }\n    },\n    {\n      \"column\": \"Recall\",\n      \"properties\": {\n        \"dtype\": \"number\",\n        \"std\": 0.00618201867393587,\n        \"min\": 0.9012046065772545,\n        \"max\": 0.915552560796516,\n        \"num_unique_values\": 4,\n        \"samples\": [\n          0.9104433539477416,\n          0.9012046065772545,\n          0.915552560796516\n        ],\n        \"semantic_type\": \"\",\n        \"description\": \"\"\n      }\n    },\n    {\n      \"column\": \"F1-score\",\n      \"properties\": {\n        \"dtype\": \"number\",\n        \"std\": 0.006186125336303006,\n        \"min\": 0.9012116997934257,\n        \"max\": 0.9155708358829611,\n        \"num_unique_values\": 4,\n        \"samples\": [\n          0.910441574026769,\n          0.9012116997934257,\n          0.9155708358829611\n        ],\n        \"semantic_type\": \"\",\n        \"description\": \"\"\n      }\n    }\n  ]\n}",
       "type": "dataframe",
       "variable_name": "comparison_df"
      },
      "text/html": [
       "\n",
       "  <div id=\"df-a6da61b7-0f46-49e4-b963-f5be877fded1\" class=\"colab-df-container\">\n",
       "    <div>\n",
       "<style scoped>\n",
       "    .dataframe tbody tr th:only-of-type {\n",
       "        vertical-align: middle;\n",
       "    }\n",
       "\n",
       "    .dataframe tbody tr th {\n",
       "        vertical-align: top;\n",
       "    }\n",
       "\n",
       "    .dataframe thead th {\n",
       "        text-align: right;\n",
       "    }\n",
       "</style>\n",
       "<table border=\"1\" class=\"dataframe\">\n",
       "  <thead>\n",
       "    <tr style=\"text-align: right;\">\n",
       "      <th></th>\n",
       "      <th>Model</th>\n",
       "      <th>Accuracy</th>\n",
       "      <th>Precision</th>\n",
       "      <th>Recall</th>\n",
       "      <th>F1-score</th>\n",
       "    </tr>\n",
       "  </thead>\n",
       "  <tbody>\n",
       "    <tr>\n",
       "      <th>0</th>\n",
       "      <td>SVM</td>\n",
       "      <td>0.915608</td>\n",
       "      <td>0.916175</td>\n",
       "      <td>0.915553</td>\n",
       "      <td>0.915571</td>\n",
       "    </tr>\n",
       "    <tr>\n",
       "      <th>1</th>\n",
       "      <td>Naive Bayes</td>\n",
       "      <td>0.910531</td>\n",
       "      <td>0.911936</td>\n",
       "      <td>0.910443</td>\n",
       "      <td>0.910442</td>\n",
       "    </tr>\n",
       "    <tr>\n",
       "      <th>2</th>\n",
       "      <td>Logistic Regression</td>\n",
       "      <td>0.912531</td>\n",
       "      <td>0.912639</td>\n",
       "      <td>0.912507</td>\n",
       "      <td>0.912521</td>\n",
       "    </tr>\n",
       "    <tr>\n",
       "      <th>3</th>\n",
       "      <td>Random Forest</td>\n",
       "      <td>0.901271</td>\n",
       "      <td>0.902045</td>\n",
       "      <td>0.901205</td>\n",
       "      <td>0.901212</td>\n",
       "    </tr>\n",
       "  </tbody>\n",
       "</table>\n",
       "</div>\n",
       "    <div class=\"colab-df-buttons\">\n",
       "\n",
       "  <div class=\"colab-df-container\">\n",
       "    <button class=\"colab-df-convert\" onclick=\"convertToInteractive('df-a6da61b7-0f46-49e4-b963-f5be877fded1')\"\n",
       "            title=\"Convert this dataframe to an interactive table.\"\n",
       "            style=\"display:none;\">\n",
       "\n",
       "  <svg xmlns=\"http://www.w3.org/2000/svg\" height=\"24px\" viewBox=\"0 -960 960 960\">\n",
       "    <path d=\"M120-120v-720h720v720H120Zm60-500h600v-160H180v160Zm220 220h160v-160H400v160Zm0 220h160v-160H400v160ZM180-400h160v-160H180v160Zm440 0h160v-160H620v160ZM180-180h160v-160H180v160Zm440 0h160v-160H620v160Z\"/>\n",
       "  </svg>\n",
       "    </button>\n",
       "\n",
       "  <style>\n",
       "    .colab-df-container {\n",
       "      display:flex;\n",
       "      gap: 12px;\n",
       "    }\n",
       "\n",
       "    .colab-df-convert {\n",
       "      background-color: #E8F0FE;\n",
       "      border: none;\n",
       "      border-radius: 50%;\n",
       "      cursor: pointer;\n",
       "      display: none;\n",
       "      fill: #1967D2;\n",
       "      height: 32px;\n",
       "      padding: 0 0 0 0;\n",
       "      width: 32px;\n",
       "    }\n",
       "\n",
       "    .colab-df-convert:hover {\n",
       "      background-color: #E2EBFA;\n",
       "      box-shadow: 0px 1px 2px rgba(60, 64, 67, 0.3), 0px 1px 3px 1px rgba(60, 64, 67, 0.15);\n",
       "      fill: #174EA6;\n",
       "    }\n",
       "\n",
       "    .colab-df-buttons div {\n",
       "      margin-bottom: 4px;\n",
       "    }\n",
       "\n",
       "    [theme=dark] .colab-df-convert {\n",
       "      background-color: #3B4455;\n",
       "      fill: #D2E3FC;\n",
       "    }\n",
       "\n",
       "    [theme=dark] .colab-df-convert:hover {\n",
       "      background-color: #434B5C;\n",
       "      box-shadow: 0px 1px 3px 1px rgba(0, 0, 0, 0.15);\n",
       "      filter: drop-shadow(0px 1px 2px rgba(0, 0, 0, 0.3));\n",
       "      fill: #FFFFFF;\n",
       "    }\n",
       "  </style>\n",
       "\n",
       "    <script>\n",
       "      const buttonEl =\n",
       "        document.querySelector('#df-a6da61b7-0f46-49e4-b963-f5be877fded1 button.colab-df-convert');\n",
       "      buttonEl.style.display =\n",
       "        google.colab.kernel.accessAllowed ? 'block' : 'none';\n",
       "\n",
       "      async function convertToInteractive(key) {\n",
       "        const element = document.querySelector('#df-a6da61b7-0f46-49e4-b963-f5be877fded1');\n",
       "        const dataTable =\n",
       "          await google.colab.kernel.invokeFunction('convertToInteractive',\n",
       "                                                    [key], {});\n",
       "        if (!dataTable) return;\n",
       "\n",
       "        const docLinkHtml = 'Like what you see? Visit the ' +\n",
       "          '<a target=\"_blank\" href=https://colab.research.google.com/notebooks/data_table.ipynb>data table notebook</a>'\n",
       "          + ' to learn more about interactive tables.';\n",
       "        element.innerHTML = '';\n",
       "        dataTable['output_type'] = 'display_data';\n",
       "        await google.colab.output.renderOutput(dataTable, element);\n",
       "        const docLink = document.createElement('div');\n",
       "        docLink.innerHTML = docLinkHtml;\n",
       "        element.appendChild(docLink);\n",
       "      }\n",
       "    </script>\n",
       "  </div>\n",
       "\n",
       "\n",
       "<div id=\"df-48d4d542-8595-4b69-aae1-d0dfd30bd7ea\">\n",
       "  <button class=\"colab-df-quickchart\" onclick=\"quickchart('df-48d4d542-8595-4b69-aae1-d0dfd30bd7ea')\"\n",
       "            title=\"Suggest charts\"\n",
       "            style=\"display:none;\">\n",
       "\n",
       "<svg xmlns=\"http://www.w3.org/2000/svg\" height=\"24px\"viewBox=\"0 0 24 24\"\n",
       "     width=\"24px\">\n",
       "    <g>\n",
       "        <path d=\"M19 3H5c-1.1 0-2 .9-2 2v14c0 1.1.9 2 2 2h14c1.1 0 2-.9 2-2V5c0-1.1-.9-2-2-2zM9 17H7v-7h2v7zm4 0h-2V7h2v10zm4 0h-2v-4h2v4z\"/>\n",
       "    </g>\n",
       "</svg>\n",
       "  </button>\n",
       "\n",
       "<style>\n",
       "  .colab-df-quickchart {\n",
       "      --bg-color: #E8F0FE;\n",
       "      --fill-color: #1967D2;\n",
       "      --hover-bg-color: #E2EBFA;\n",
       "      --hover-fill-color: #174EA6;\n",
       "      --disabled-fill-color: #AAA;\n",
       "      --disabled-bg-color: #DDD;\n",
       "  }\n",
       "\n",
       "  [theme=dark] .colab-df-quickchart {\n",
       "      --bg-color: #3B4455;\n",
       "      --fill-color: #D2E3FC;\n",
       "      --hover-bg-color: #434B5C;\n",
       "      --hover-fill-color: #FFFFFF;\n",
       "      --disabled-bg-color: #3B4455;\n",
       "      --disabled-fill-color: #666;\n",
       "  }\n",
       "\n",
       "  .colab-df-quickchart {\n",
       "    background-color: var(--bg-color);\n",
       "    border: none;\n",
       "    border-radius: 50%;\n",
       "    cursor: pointer;\n",
       "    display: none;\n",
       "    fill: var(--fill-color);\n",
       "    height: 32px;\n",
       "    padding: 0;\n",
       "    width: 32px;\n",
       "  }\n",
       "\n",
       "  .colab-df-quickchart:hover {\n",
       "    background-color: var(--hover-bg-color);\n",
       "    box-shadow: 0 1px 2px rgba(60, 64, 67, 0.3), 0 1px 3px 1px rgba(60, 64, 67, 0.15);\n",
       "    fill: var(--button-hover-fill-color);\n",
       "  }\n",
       "\n",
       "  .colab-df-quickchart-complete:disabled,\n",
       "  .colab-df-quickchart-complete:disabled:hover {\n",
       "    background-color: var(--disabled-bg-color);\n",
       "    fill: var(--disabled-fill-color);\n",
       "    box-shadow: none;\n",
       "  }\n",
       "\n",
       "  .colab-df-spinner {\n",
       "    border: 2px solid var(--fill-color);\n",
       "    border-color: transparent;\n",
       "    border-bottom-color: var(--fill-color);\n",
       "    animation:\n",
       "      spin 1s steps(1) infinite;\n",
       "  }\n",
       "\n",
       "  @keyframes spin {\n",
       "    0% {\n",
       "      border-color: transparent;\n",
       "      border-bottom-color: var(--fill-color);\n",
       "      border-left-color: var(--fill-color);\n",
       "    }\n",
       "    20% {\n",
       "      border-color: transparent;\n",
       "      border-left-color: var(--fill-color);\n",
       "      border-top-color: var(--fill-color);\n",
       "    }\n",
       "    30% {\n",
       "      border-color: transparent;\n",
       "      border-left-color: var(--fill-color);\n",
       "      border-top-color: var(--fill-color);\n",
       "      border-right-color: var(--fill-color);\n",
       "    }\n",
       "    40% {\n",
       "      border-color: transparent;\n",
       "      border-right-color: var(--fill-color);\n",
       "      border-top-color: var(--fill-color);\n",
       "    }\n",
       "    60% {\n",
       "      border-color: transparent;\n",
       "      border-right-color: var(--fill-color);\n",
       "    }\n",
       "    80% {\n",
       "      border-color: transparent;\n",
       "      border-right-color: var(--fill-color);\n",
       "      border-bottom-color: var(--fill-color);\n",
       "    }\n",
       "    90% {\n",
       "      border-color: transparent;\n",
       "      border-bottom-color: var(--fill-color);\n",
       "    }\n",
       "  }\n",
       "</style>\n",
       "\n",
       "  <script>\n",
       "    async function quickchart(key) {\n",
       "      const quickchartButtonEl =\n",
       "        document.querySelector('#' + key + ' button');\n",
       "      quickchartButtonEl.disabled = true;  // To prevent multiple clicks.\n",
       "      quickchartButtonEl.classList.add('colab-df-spinner');\n",
       "      try {\n",
       "        const charts = await google.colab.kernel.invokeFunction(\n",
       "            'suggestCharts', [key], {});\n",
       "      } catch (error) {\n",
       "        console.error('Error during call to suggestCharts:', error);\n",
       "      }\n",
       "      quickchartButtonEl.classList.remove('colab-df-spinner');\n",
       "      quickchartButtonEl.classList.add('colab-df-quickchart-complete');\n",
       "    }\n",
       "    (() => {\n",
       "      let quickchartButtonEl =\n",
       "        document.querySelector('#df-48d4d542-8595-4b69-aae1-d0dfd30bd7ea button');\n",
       "      quickchartButtonEl.style.display =\n",
       "        google.colab.kernel.accessAllowed ? 'block' : 'none';\n",
       "    })();\n",
       "  </script>\n",
       "</div>\n",
       "\n",
       "  <div id=\"id_b1b5258f-45b8-40ed-accd-0f51b2f94091\">\n",
       "    <style>\n",
       "      .colab-df-generate {\n",
       "        background-color: #E8F0FE;\n",
       "        border: none;\n",
       "        border-radius: 50%;\n",
       "        cursor: pointer;\n",
       "        display: none;\n",
       "        fill: #1967D2;\n",
       "        height: 32px;\n",
       "        padding: 0 0 0 0;\n",
       "        width: 32px;\n",
       "      }\n",
       "\n",
       "      .colab-df-generate:hover {\n",
       "        background-color: #E2EBFA;\n",
       "        box-shadow: 0px 1px 2px rgba(60, 64, 67, 0.3), 0px 1px 3px 1px rgba(60, 64, 67, 0.15);\n",
       "        fill: #174EA6;\n",
       "      }\n",
       "\n",
       "      [theme=dark] .colab-df-generate {\n",
       "        background-color: #3B4455;\n",
       "        fill: #D2E3FC;\n",
       "      }\n",
       "\n",
       "      [theme=dark] .colab-df-generate:hover {\n",
       "        background-color: #434B5C;\n",
       "        box-shadow: 0px 1px 3px 1px rgba(0, 0, 0, 0.15);\n",
       "        filter: drop-shadow(0px 1px 2px rgba(0, 0, 0, 0.3));\n",
       "        fill: #FFFFFF;\n",
       "      }\n",
       "    </style>\n",
       "    <button class=\"colab-df-generate\" onclick=\"generateWithVariable('comparison_df')\"\n",
       "            title=\"Generate code using this dataframe.\"\n",
       "            style=\"display:none;\">\n",
       "\n",
       "  <svg xmlns=\"http://www.w3.org/2000/svg\" height=\"24px\"viewBox=\"0 0 24 24\"\n",
       "       width=\"24px\">\n",
       "    <path d=\"M7,19H8.4L18.45,9,17,7.55,7,17.6ZM5,21V16.75L18.45,3.32a2,2,0,0,1,2.83,0l1.4,1.43a1.91,1.91,0,0,1,.58,1.4,1.91,1.91,0,0,1-.58,1.4L9.25,21ZM18.45,9,17,7.55Zm-12,3A5.31,5.31,0,0,0,4.9,8.1,5.31,5.31,0,0,0,1,6.5,5.31,5.31,0,0,0,4.9,4.9,5.31,5.31,0,0,0,6.5,1,5.31,5.31,0,0,0,8.1,4.9,5.31,5.31,0,0,0,12,6.5,5.46,5.46,0,0,0,6.5,12Z\"/>\n",
       "  </svg>\n",
       "    </button>\n",
       "    <script>\n",
       "      (() => {\n",
       "      const buttonEl =\n",
       "        document.querySelector('#id_b1b5258f-45b8-40ed-accd-0f51b2f94091 button.colab-df-generate');\n",
       "      buttonEl.style.display =\n",
       "        google.colab.kernel.accessAllowed ? 'block' : 'none';\n",
       "\n",
       "      buttonEl.onclick = () => {\n",
       "        google.colab.notebook.generateWithVariable('comparison_df');\n",
       "      }\n",
       "      })();\n",
       "    </script>\n",
       "  </div>\n",
       "\n",
       "    </div>\n",
       "  </div>\n"
      ],
      "text/plain": [
       "                 Model  Accuracy  Precision    Recall  F1-score\n",
       "0                  SVM  0.915608   0.916175  0.915553  0.915571\n",
       "1          Naive Bayes  0.910531   0.911936  0.910443  0.910442\n",
       "2  Logistic Regression  0.912531   0.912639  0.912507  0.912521\n",
       "3        Random Forest  0.901271   0.902045  0.901205  0.901212"
      ]
     },
     "execution_count": 115,
     "metadata": {},
     "output_type": "execute_result"
    }
   ],
   "source": [
    "data = {\n",
    "    'Model': ['SVM', 'Naive Bayes', 'Logistic Regression', 'Random Forest'],\n",
    "    'Accuracy': [accuracy_score(y_test, y_pred), accuracy_score(y_test, y_pred_nb), accuracy_score(y_test, y_pred_lr), accuracy_score(y_test, y_pred_rf)],\n",
    "\n",
    "    'Precision': [classification_report(y_test, y_pred, output_dict=True)['macro avg']['precision'],\n",
    "                  classification_report(y_test, y_pred_nb, output_dict=True)['macro avg']['precision'],\n",
    "                  classification_report(y_test, y_pred_lr, output_dict=True)['macro avg']['precision'],\n",
    "                  classification_report(y_test, y_pred_rf, output_dict=True)['macro avg']['precision']],\n",
    "    'Recall': [classification_report(y_test, y_pred, output_dict=True)['macro avg']['recall'],\n",
    "                  classification_report(y_test, y_pred_nb, output_dict=True)['macro avg']['recall'],\n",
    "                  classification_report(y_test, y_pred_lr, output_dict=True)['macro avg']['recall'],\n",
    "                  classification_report(y_test, y_pred_rf, output_dict=True)['macro avg']['recall']],\n",
    "    'F1-score': [classification_report(y_test, y_pred, output_dict=True)['macro avg']['f1-score'],\n",
    "                  classification_report(y_test, y_pred_nb, output_dict=True)['macro avg']['f1-score'],\n",
    "                  classification_report(y_test, y_pred_lr, output_dict=True)['macro avg']['f1-score'],\n",
    "                  classification_report(y_test, y_pred_rf, output_dict=True)['macro avg']['f1-score']]\n",
    "}\n",
    "\n",
    "comparison_df = pd.DataFrame(data)\n",
    "comparison_df"
   ]
  },
  {
   "cell_type": "markdown",
   "id": "50c26c24-bd3b-459b-b0a0-228cc51afed4",
   "metadata": {},
   "source": [
    "## Streamlit "
   ]
  },
  {
   "cell_type": "markdown",
   "id": "e58220ca-b226-4efa-9f9a-c3c8091657da",
   "metadata": {},
   "source": [
    "Here The following is a streamlit link resulting from the implementation/deployment of the model that I created in this notebook into my streamlit web environment"
   ]
  },
  {
   "cell_type": "markdown",
   "id": "f9233ca7-ba4a-475c-96b1-99c1c39affb4",
   "metadata": {},
   "source": [
    "[Link Sreamlit Web:](https://sentimentmachinelearning-bzmp29asmq9wu54farn2mv.streamlit.app/) \n",
    "\n",
    "https://sentimentmachinelearning-bzmp29asmq9wu54farn2mv.streamlit.app/"
   ]
  }
 ],
 "metadata": {
  "colab": {
   "provenance": []
  },
  "kernelspec": {
   "display_name": "Python 3 (ipykernel)",
   "language": "python",
   "name": "python3"
  },
  "language_info": {
   "codemirror_mode": {
    "name": "ipython",
    "version": 3
   },
   "file_extension": ".py",
   "mimetype": "text/x-python",
   "name": "python",
   "nbconvert_exporter": "python",
   "pygments_lexer": "ipython3",
   "version": "3.11.0"
  }
 },
 "nbformat": 4,
 "nbformat_minor": 5
}
